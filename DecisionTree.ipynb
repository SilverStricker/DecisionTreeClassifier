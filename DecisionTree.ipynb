{
  "cells": [
    {
      "cell_type": "markdown",
      "metadata": {
        "id": "ZjvQ1p2ODnas"
      },
      "source": [
        "Suppose you have been appointed as a data analyst in a biological research institute. You have been assigned a task of predicting the variety of seeds. The features are collected using scanned images of the seeds. You can use various features of the scanned image of seeds such as area, perimeter, etc. (refer seed.csv).\n",
        "\n",
        " A.    “Feature with more standard deviation has more information gain”.  Show the correctness/incorrectness of the statement through your calculations on the seed dataset.  You may use certain library functions for performing numeric computations wherever needed.\n",
        "\n",
        "B.     Build a machine learning model using sklearn library to predict variety of the seed using the seed dataset. Show your results for gini index and entropy. Also print the decision tree for a depth of 3."
      ]
    },
    {
      "cell_type": "code",
      "execution_count": null,
      "metadata": {
        "colab": {
          "base_uri": "https://localhost:8080/"
        },
        "id": "DP34k_OnAqry",
        "outputId": "d2df726a-e1d9-48d9-a0e7-2865b9bda852"
      },
      "outputs": [
        {
          "name": "stdout",
          "output_type": "stream",
          "text": [
            "Drive already mounted at /content/gdrive; to attempt to forcibly remount, call drive.mount(\"/content/gdrive\", force_remount=True).\n"
          ]
        }
      ],
      "source": [
        "import numpy as np\n",
        "import matplotlib.pyplot as plt\n",
        "import pandas as pd\n",
        "from google.colab import drive\n",
        "drive.mount('/content/gdrive')"
      ]
    },
    {
      "cell_type": "markdown",
      "metadata": {
        "id": "W-0sNl3tPSyU"
      },
      "source": [
        "Importing the dataset seed.csv"
      ]
    },
    {
      "cell_type": "code",
      "execution_count": null,
      "metadata": {
        "colab": {
          "base_uri": "https://localhost:8080/",
          "height": 206
        },
        "id": "HrTTRWO7DAAM",
        "outputId": "1b4774c3-b13e-4fa2-bfe6-d480dc7b7e62"
      },
      "outputs": [
        {
          "data": {
            "text/html": [
              "\n",
              "\n",
              "  <div id=\"df-c6a1536d-a265-418f-a7cb-f72194989f99\">\n",
              "    <div class=\"colab-df-container\">\n",
              "      <div>\n",
              "<style scoped>\n",
              "    .dataframe tbody tr th:only-of-type {\n",
              "        vertical-align: middle;\n",
              "    }\n",
              "\n",
              "    .dataframe tbody tr th {\n",
              "        vertical-align: top;\n",
              "    }\n",
              "\n",
              "    .dataframe thead th {\n",
              "        text-align: right;\n",
              "    }\n",
              "</style>\n",
              "<table border=\"1\" class=\"dataframe\">\n",
              "  <thead>\n",
              "    <tr style=\"text-align: right;\">\n",
              "      <th></th>\n",
              "      <th>Area</th>\n",
              "      <th>Perimeter</th>\n",
              "      <th>ConvexArea</th>\n",
              "      <th>EquivDiameter</th>\n",
              "      <th>Extent</th>\n",
              "      <th>Solidity</th>\n",
              "      <th>roundness</th>\n",
              "      <th>Compactness</th>\n",
              "      <th>Class</th>\n",
              "    </tr>\n",
              "  </thead>\n",
              "  <tbody>\n",
              "    <tr>\n",
              "      <th>0</th>\n",
              "      <td>28395.0</td>\n",
              "      <td>610.291</td>\n",
              "      <td>28715.0</td>\n",
              "      <td>190.141097</td>\n",
              "      <td>0.763923</td>\n",
              "      <td>0.988856</td>\n",
              "      <td>0.958027</td>\n",
              "      <td>0.913358</td>\n",
              "      <td>V1</td>\n",
              "    </tr>\n",
              "    <tr>\n",
              "      <th>1</th>\n",
              "      <td>28734.0</td>\n",
              "      <td>638.018</td>\n",
              "      <td>29172.0</td>\n",
              "      <td>191.272751</td>\n",
              "      <td>0.783968</td>\n",
              "      <td>0.984986</td>\n",
              "      <td>0.887034</td>\n",
              "      <td>0.953861</td>\n",
              "      <td>V1</td>\n",
              "    </tr>\n",
              "    <tr>\n",
              "      <th>2</th>\n",
              "      <td>29380.0</td>\n",
              "      <td>624.110</td>\n",
              "      <td>29690.0</td>\n",
              "      <td>193.410904</td>\n",
              "      <td>0.778113</td>\n",
              "      <td>0.989559</td>\n",
              "      <td>0.947849</td>\n",
              "      <td>0.908774</td>\n",
              "      <td>V1</td>\n",
              "    </tr>\n",
              "    <tr>\n",
              "      <th>3</th>\n",
              "      <td>30008.0</td>\n",
              "      <td>645.884</td>\n",
              "      <td>30724.0</td>\n",
              "      <td>195.467062</td>\n",
              "      <td>0.782681</td>\n",
              "      <td>0.976696</td>\n",
              "      <td>0.903936</td>\n",
              "      <td>0.928329</td>\n",
              "      <td>V1</td>\n",
              "    </tr>\n",
              "    <tr>\n",
              "      <th>4</th>\n",
              "      <td>30140.0</td>\n",
              "      <td>620.134</td>\n",
              "      <td>30417.0</td>\n",
              "      <td>195.896503</td>\n",
              "      <td>0.773098</td>\n",
              "      <td>0.990893</td>\n",
              "      <td>0.984877</td>\n",
              "      <td>0.970516</td>\n",
              "      <td>V1</td>\n",
              "    </tr>\n",
              "  </tbody>\n",
              "</table>\n",
              "</div>\n",
              "      <button class=\"colab-df-convert\" onclick=\"convertToInteractive('df-c6a1536d-a265-418f-a7cb-f72194989f99')\"\n",
              "              title=\"Convert this dataframe to an interactive table.\"\n",
              "              style=\"display:none;\">\n",
              "\n",
              "  <svg xmlns=\"http://www.w3.org/2000/svg\" height=\"24px\"viewBox=\"0 0 24 24\"\n",
              "       width=\"24px\">\n",
              "    <path d=\"M0 0h24v24H0V0z\" fill=\"none\"/>\n",
              "    <path d=\"M18.56 5.44l.94 2.06.94-2.06 2.06-.94-2.06-.94-.94-2.06-.94 2.06-2.06.94zm-11 1L8.5 8.5l.94-2.06 2.06-.94-2.06-.94L8.5 2.5l-.94 2.06-2.06.94zm10 10l.94 2.06.94-2.06 2.06-.94-2.06-.94-.94-2.06-.94 2.06-2.06.94z\"/><path d=\"M17.41 7.96l-1.37-1.37c-.4-.4-.92-.59-1.43-.59-.52 0-1.04.2-1.43.59L10.3 9.45l-7.72 7.72c-.78.78-.78 2.05 0 2.83L4 21.41c.39.39.9.59 1.41.59.51 0 1.02-.2 1.41-.59l7.78-7.78 2.81-2.81c.8-.78.8-2.07 0-2.86zM5.41 20L4 18.59l7.72-7.72 1.47 1.35L5.41 20z\"/>\n",
              "  </svg>\n",
              "      </button>\n",
              "\n",
              "\n",
              "\n",
              "    <div id=\"df-ded1e0b2-a2d8-4dc0-910d-16b2956ea376\">\n",
              "      <button class=\"colab-df-quickchart\" onclick=\"quickchart('df-ded1e0b2-a2d8-4dc0-910d-16b2956ea376')\"\n",
              "              title=\"Suggest charts.\"\n",
              "              style=\"display:none;\">\n",
              "\n",
              "<svg xmlns=\"http://www.w3.org/2000/svg\" height=\"24px\"viewBox=\"0 0 24 24\"\n",
              "     width=\"24px\">\n",
              "    <g>\n",
              "        <path d=\"M19 3H5c-1.1 0-2 .9-2 2v14c0 1.1.9 2 2 2h14c1.1 0 2-.9 2-2V5c0-1.1-.9-2-2-2zM9 17H7v-7h2v7zm4 0h-2V7h2v10zm4 0h-2v-4h2v4z\"/>\n",
              "    </g>\n",
              "</svg>\n",
              "      </button>\n",
              "    </div>\n",
              "\n",
              "<style>\n",
              "  .colab-df-quickchart {\n",
              "    background-color: #E8F0FE;\n",
              "    border: none;\n",
              "    border-radius: 50%;\n",
              "    cursor: pointer;\n",
              "    display: none;\n",
              "    fill: #1967D2;\n",
              "    height: 32px;\n",
              "    padding: 0 0 0 0;\n",
              "    width: 32px;\n",
              "  }\n",
              "\n",
              "  .colab-df-quickchart:hover {\n",
              "    background-color: #E2EBFA;\n",
              "    box-shadow: 0px 1px 2px rgba(60, 64, 67, 0.3), 0px 1px 3px 1px rgba(60, 64, 67, 0.15);\n",
              "    fill: #174EA6;\n",
              "  }\n",
              "\n",
              "  [theme=dark] .colab-df-quickchart {\n",
              "    background-color: #3B4455;\n",
              "    fill: #D2E3FC;\n",
              "  }\n",
              "\n",
              "  [theme=dark] .colab-df-quickchart:hover {\n",
              "    background-color: #434B5C;\n",
              "    box-shadow: 0px 1px 3px 1px rgba(0, 0, 0, 0.15);\n",
              "    filter: drop-shadow(0px 1px 2px rgba(0, 0, 0, 0.3));\n",
              "    fill: #FFFFFF;\n",
              "  }\n",
              "</style>\n",
              "\n",
              "    <script>\n",
              "      async function quickchart(key) {\n",
              "        const containerElement = document.querySelector('#' + key);\n",
              "        const charts = await google.colab.kernel.invokeFunction(\n",
              "            'suggestCharts', [key], {});\n",
              "      }\n",
              "    </script>\n",
              "\n",
              "      <script>\n",
              "\n",
              "function displayQuickchartButton(domScope) {\n",
              "  let quickchartButtonEl =\n",
              "    domScope.querySelector('#df-ded1e0b2-a2d8-4dc0-910d-16b2956ea376 button.colab-df-quickchart');\n",
              "  quickchartButtonEl.style.display =\n",
              "    google.colab.kernel.accessAllowed ? 'block' : 'none';\n",
              "}\n",
              "\n",
              "        displayQuickchartButton(document);\n",
              "      </script>\n",
              "      <style>\n",
              "    .colab-df-container {\n",
              "      display:flex;\n",
              "      flex-wrap:wrap;\n",
              "      gap: 12px;\n",
              "    }\n",
              "\n",
              "    .colab-df-convert {\n",
              "      background-color: #E8F0FE;\n",
              "      border: none;\n",
              "      border-radius: 50%;\n",
              "      cursor: pointer;\n",
              "      display: none;\n",
              "      fill: #1967D2;\n",
              "      height: 32px;\n",
              "      padding: 0 0 0 0;\n",
              "      width: 32px;\n",
              "    }\n",
              "\n",
              "    .colab-df-convert:hover {\n",
              "      background-color: #E2EBFA;\n",
              "      box-shadow: 0px 1px 2px rgba(60, 64, 67, 0.3), 0px 1px 3px 1px rgba(60, 64, 67, 0.15);\n",
              "      fill: #174EA6;\n",
              "    }\n",
              "\n",
              "    [theme=dark] .colab-df-convert {\n",
              "      background-color: #3B4455;\n",
              "      fill: #D2E3FC;\n",
              "    }\n",
              "\n",
              "    [theme=dark] .colab-df-convert:hover {\n",
              "      background-color: #434B5C;\n",
              "      box-shadow: 0px 1px 3px 1px rgba(0, 0, 0, 0.15);\n",
              "      filter: drop-shadow(0px 1px 2px rgba(0, 0, 0, 0.3));\n",
              "      fill: #FFFFFF;\n",
              "    }\n",
              "  </style>\n",
              "\n",
              "      <script>\n",
              "        const buttonEl =\n",
              "          document.querySelector('#df-c6a1536d-a265-418f-a7cb-f72194989f99 button.colab-df-convert');\n",
              "        buttonEl.style.display =\n",
              "          google.colab.kernel.accessAllowed ? 'block' : 'none';\n",
              "\n",
              "        async function convertToInteractive(key) {\n",
              "          const element = document.querySelector('#df-c6a1536d-a265-418f-a7cb-f72194989f99');\n",
              "          const dataTable =\n",
              "            await google.colab.kernel.invokeFunction('convertToInteractive',\n",
              "                                                     [key], {});\n",
              "          if (!dataTable) return;\n",
              "\n",
              "          const docLinkHtml = 'Like what you see? Visit the ' +\n",
              "            '<a target=\"_blank\" href=https://colab.research.google.com/notebooks/data_table.ipynb>data table notebook</a>'\n",
              "            + ' to learn more about interactive tables.';\n",
              "          element.innerHTML = '';\n",
              "          dataTable['output_type'] = 'display_data';\n",
              "          await google.colab.output.renderOutput(dataTable, element);\n",
              "          const docLink = document.createElement('div');\n",
              "          docLink.innerHTML = docLinkHtml;\n",
              "          element.appendChild(docLink);\n",
              "        }\n",
              "      </script>\n",
              "    </div>\n",
              "  </div>\n"
            ],
            "text/plain": [
              "      Area  Perimeter  ConvexArea  EquivDiameter    Extent  Solidity  \\\n",
              "0  28395.0    610.291     28715.0     190.141097  0.763923  0.988856   \n",
              "1  28734.0    638.018     29172.0     191.272751  0.783968  0.984986   \n",
              "2  29380.0    624.110     29690.0     193.410904  0.778113  0.989559   \n",
              "3  30008.0    645.884     30724.0     195.467062  0.782681  0.976696   \n",
              "4  30140.0    620.134     30417.0     195.896503  0.773098  0.990893   \n",
              "\n",
              "   roundness  Compactness Class  \n",
              "0   0.958027     0.913358    V1  \n",
              "1   0.887034     0.953861    V1  \n",
              "2   0.947849     0.908774    V1  \n",
              "3   0.903936     0.928329    V1  \n",
              "4   0.984877     0.970516    V1  "
            ]
          },
          "execution_count": 2,
          "metadata": {},
          "output_type": "execute_result"
        }
      ],
      "source": [
        "df = pd.read_csv('/content/gdrive/MyDrive/seed.csv')\n",
        "df.head()"
      ]
    },
    {
      "cell_type": "code",
      "execution_count": null,
      "metadata": {
        "colab": {
          "base_uri": "https://localhost:8080/",
          "height": 206
        },
        "id": "RAmRPT-UDsI8",
        "outputId": "a1b4e583-7524-4326-a44d-e4af99030e79"
      },
      "outputs": [
        {
          "data": {
            "text/html": [
              "\n",
              "\n",
              "  <div id=\"df-82ef3aea-4dc3-4bc6-8ede-030f681c6fb8\">\n",
              "    <div class=\"colab-df-container\">\n",
              "      <div>\n",
              "<style scoped>\n",
              "    .dataframe tbody tr th:only-of-type {\n",
              "        vertical-align: middle;\n",
              "    }\n",
              "\n",
              "    .dataframe tbody tr th {\n",
              "        vertical-align: top;\n",
              "    }\n",
              "\n",
              "    .dataframe thead th {\n",
              "        text-align: right;\n",
              "    }\n",
              "</style>\n",
              "<table border=\"1\" class=\"dataframe\">\n",
              "  <thead>\n",
              "    <tr style=\"text-align: right;\">\n",
              "      <th></th>\n",
              "      <th>Area</th>\n",
              "      <th>Perimeter</th>\n",
              "      <th>ConvexArea</th>\n",
              "      <th>EquivDiameter</th>\n",
              "      <th>Extent</th>\n",
              "      <th>Solidity</th>\n",
              "      <th>roundness</th>\n",
              "      <th>Compactness</th>\n",
              "      <th>Class</th>\n",
              "    </tr>\n",
              "  </thead>\n",
              "  <tbody>\n",
              "    <tr>\n",
              "      <th>0</th>\n",
              "      <td>28395.0</td>\n",
              "      <td>610.291</td>\n",
              "      <td>28715.0</td>\n",
              "      <td>190.141097</td>\n",
              "      <td>0.763923</td>\n",
              "      <td>0.988856</td>\n",
              "      <td>0.958027</td>\n",
              "      <td>0.913358</td>\n",
              "      <td>0</td>\n",
              "    </tr>\n",
              "    <tr>\n",
              "      <th>1</th>\n",
              "      <td>28734.0</td>\n",
              "      <td>638.018</td>\n",
              "      <td>29172.0</td>\n",
              "      <td>191.272751</td>\n",
              "      <td>0.783968</td>\n",
              "      <td>0.984986</td>\n",
              "      <td>0.887034</td>\n",
              "      <td>0.953861</td>\n",
              "      <td>0</td>\n",
              "    </tr>\n",
              "    <tr>\n",
              "      <th>2</th>\n",
              "      <td>29380.0</td>\n",
              "      <td>624.110</td>\n",
              "      <td>29690.0</td>\n",
              "      <td>193.410904</td>\n",
              "      <td>0.778113</td>\n",
              "      <td>0.989559</td>\n",
              "      <td>0.947849</td>\n",
              "      <td>0.908774</td>\n",
              "      <td>0</td>\n",
              "    </tr>\n",
              "    <tr>\n",
              "      <th>3</th>\n",
              "      <td>30008.0</td>\n",
              "      <td>645.884</td>\n",
              "      <td>30724.0</td>\n",
              "      <td>195.467062</td>\n",
              "      <td>0.782681</td>\n",
              "      <td>0.976696</td>\n",
              "      <td>0.903936</td>\n",
              "      <td>0.928329</td>\n",
              "      <td>0</td>\n",
              "    </tr>\n",
              "    <tr>\n",
              "      <th>4</th>\n",
              "      <td>30140.0</td>\n",
              "      <td>620.134</td>\n",
              "      <td>30417.0</td>\n",
              "      <td>195.896503</td>\n",
              "      <td>0.773098</td>\n",
              "      <td>0.990893</td>\n",
              "      <td>0.984877</td>\n",
              "      <td>0.970516</td>\n",
              "      <td>0</td>\n",
              "    </tr>\n",
              "  </tbody>\n",
              "</table>\n",
              "</div>\n",
              "      <button class=\"colab-df-convert\" onclick=\"convertToInteractive('df-82ef3aea-4dc3-4bc6-8ede-030f681c6fb8')\"\n",
              "              title=\"Convert this dataframe to an interactive table.\"\n",
              "              style=\"display:none;\">\n",
              "\n",
              "  <svg xmlns=\"http://www.w3.org/2000/svg\" height=\"24px\"viewBox=\"0 0 24 24\"\n",
              "       width=\"24px\">\n",
              "    <path d=\"M0 0h24v24H0V0z\" fill=\"none\"/>\n",
              "    <path d=\"M18.56 5.44l.94 2.06.94-2.06 2.06-.94-2.06-.94-.94-2.06-.94 2.06-2.06.94zm-11 1L8.5 8.5l.94-2.06 2.06-.94-2.06-.94L8.5 2.5l-.94 2.06-2.06.94zm10 10l.94 2.06.94-2.06 2.06-.94-2.06-.94-.94-2.06-.94 2.06-2.06.94z\"/><path d=\"M17.41 7.96l-1.37-1.37c-.4-.4-.92-.59-1.43-.59-.52 0-1.04.2-1.43.59L10.3 9.45l-7.72 7.72c-.78.78-.78 2.05 0 2.83L4 21.41c.39.39.9.59 1.41.59.51 0 1.02-.2 1.41-.59l7.78-7.78 2.81-2.81c.8-.78.8-2.07 0-2.86zM5.41 20L4 18.59l7.72-7.72 1.47 1.35L5.41 20z\"/>\n",
              "  </svg>\n",
              "      </button>\n",
              "\n",
              "\n",
              "\n",
              "    <div id=\"df-65435703-1de5-4e34-b729-9bf8406f38f5\">\n",
              "      <button class=\"colab-df-quickchart\" onclick=\"quickchart('df-65435703-1de5-4e34-b729-9bf8406f38f5')\"\n",
              "              title=\"Suggest charts.\"\n",
              "              style=\"display:none;\">\n",
              "\n",
              "<svg xmlns=\"http://www.w3.org/2000/svg\" height=\"24px\"viewBox=\"0 0 24 24\"\n",
              "     width=\"24px\">\n",
              "    <g>\n",
              "        <path d=\"M19 3H5c-1.1 0-2 .9-2 2v14c0 1.1.9 2 2 2h14c1.1 0 2-.9 2-2V5c0-1.1-.9-2-2-2zM9 17H7v-7h2v7zm4 0h-2V7h2v10zm4 0h-2v-4h2v4z\"/>\n",
              "    </g>\n",
              "</svg>\n",
              "      </button>\n",
              "    </div>\n",
              "\n",
              "<style>\n",
              "  .colab-df-quickchart {\n",
              "    background-color: #E8F0FE;\n",
              "    border: none;\n",
              "    border-radius: 50%;\n",
              "    cursor: pointer;\n",
              "    display: none;\n",
              "    fill: #1967D2;\n",
              "    height: 32px;\n",
              "    padding: 0 0 0 0;\n",
              "    width: 32px;\n",
              "  }\n",
              "\n",
              "  .colab-df-quickchart:hover {\n",
              "    background-color: #E2EBFA;\n",
              "    box-shadow: 0px 1px 2px rgba(60, 64, 67, 0.3), 0px 1px 3px 1px rgba(60, 64, 67, 0.15);\n",
              "    fill: #174EA6;\n",
              "  }\n",
              "\n",
              "  [theme=dark] .colab-df-quickchart {\n",
              "    background-color: #3B4455;\n",
              "    fill: #D2E3FC;\n",
              "  }\n",
              "\n",
              "  [theme=dark] .colab-df-quickchart:hover {\n",
              "    background-color: #434B5C;\n",
              "    box-shadow: 0px 1px 3px 1px rgba(0, 0, 0, 0.15);\n",
              "    filter: drop-shadow(0px 1px 2px rgba(0, 0, 0, 0.3));\n",
              "    fill: #FFFFFF;\n",
              "  }\n",
              "</style>\n",
              "\n",
              "    <script>\n",
              "      async function quickchart(key) {\n",
              "        const containerElement = document.querySelector('#' + key);\n",
              "        const charts = await google.colab.kernel.invokeFunction(\n",
              "            'suggestCharts', [key], {});\n",
              "      }\n",
              "    </script>\n",
              "\n",
              "      <script>\n",
              "\n",
              "function displayQuickchartButton(domScope) {\n",
              "  let quickchartButtonEl =\n",
              "    domScope.querySelector('#df-65435703-1de5-4e34-b729-9bf8406f38f5 button.colab-df-quickchart');\n",
              "  quickchartButtonEl.style.display =\n",
              "    google.colab.kernel.accessAllowed ? 'block' : 'none';\n",
              "}\n",
              "\n",
              "        displayQuickchartButton(document);\n",
              "      </script>\n",
              "      <style>\n",
              "    .colab-df-container {\n",
              "      display:flex;\n",
              "      flex-wrap:wrap;\n",
              "      gap: 12px;\n",
              "    }\n",
              "\n",
              "    .colab-df-convert {\n",
              "      background-color: #E8F0FE;\n",
              "      border: none;\n",
              "      border-radius: 50%;\n",
              "      cursor: pointer;\n",
              "      display: none;\n",
              "      fill: #1967D2;\n",
              "      height: 32px;\n",
              "      padding: 0 0 0 0;\n",
              "      width: 32px;\n",
              "    }\n",
              "\n",
              "    .colab-df-convert:hover {\n",
              "      background-color: #E2EBFA;\n",
              "      box-shadow: 0px 1px 2px rgba(60, 64, 67, 0.3), 0px 1px 3px 1px rgba(60, 64, 67, 0.15);\n",
              "      fill: #174EA6;\n",
              "    }\n",
              "\n",
              "    [theme=dark] .colab-df-convert {\n",
              "      background-color: #3B4455;\n",
              "      fill: #D2E3FC;\n",
              "    }\n",
              "\n",
              "    [theme=dark] .colab-df-convert:hover {\n",
              "      background-color: #434B5C;\n",
              "      box-shadow: 0px 1px 3px 1px rgba(0, 0, 0, 0.15);\n",
              "      filter: drop-shadow(0px 1px 2px rgba(0, 0, 0, 0.3));\n",
              "      fill: #FFFFFF;\n",
              "    }\n",
              "  </style>\n",
              "\n",
              "      <script>\n",
              "        const buttonEl =\n",
              "          document.querySelector('#df-82ef3aea-4dc3-4bc6-8ede-030f681c6fb8 button.colab-df-convert');\n",
              "        buttonEl.style.display =\n",
              "          google.colab.kernel.accessAllowed ? 'block' : 'none';\n",
              "\n",
              "        async function convertToInteractive(key) {\n",
              "          const element = document.querySelector('#df-82ef3aea-4dc3-4bc6-8ede-030f681c6fb8');\n",
              "          const dataTable =\n",
              "            await google.colab.kernel.invokeFunction('convertToInteractive',\n",
              "                                                     [key], {});\n",
              "          if (!dataTable) return;\n",
              "\n",
              "          const docLinkHtml = 'Like what you see? Visit the ' +\n",
              "            '<a target=\"_blank\" href=https://colab.research.google.com/notebooks/data_table.ipynb>data table notebook</a>'\n",
              "            + ' to learn more about interactive tables.';\n",
              "          element.innerHTML = '';\n",
              "          dataTable['output_type'] = 'display_data';\n",
              "          await google.colab.output.renderOutput(dataTable, element);\n",
              "          const docLink = document.createElement('div');\n",
              "          docLink.innerHTML = docLinkHtml;\n",
              "          element.appendChild(docLink);\n",
              "        }\n",
              "      </script>\n",
              "    </div>\n",
              "  </div>\n"
            ],
            "text/plain": [
              "      Area  Perimeter  ConvexArea  EquivDiameter    Extent  Solidity  \\\n",
              "0  28395.0    610.291     28715.0     190.141097  0.763923  0.988856   \n",
              "1  28734.0    638.018     29172.0     191.272751  0.783968  0.984986   \n",
              "2  29380.0    624.110     29690.0     193.410904  0.778113  0.989559   \n",
              "3  30008.0    645.884     30724.0     195.467062  0.782681  0.976696   \n",
              "4  30140.0    620.134     30417.0     195.896503  0.773098  0.990893   \n",
              "\n",
              "   roundness  Compactness  Class  \n",
              "0   0.958027     0.913358      0  \n",
              "1   0.887034     0.953861      0  \n",
              "2   0.947849     0.908774      0  \n",
              "3   0.903936     0.928329      0  \n",
              "4   0.984877     0.970516      0  "
            ]
          },
          "execution_count": 3,
          "metadata": {},
          "output_type": "execute_result"
        }
      ],
      "source": [
        "from sklearn.preprocessing import LabelEncoder\n",
        "le = LabelEncoder()\n",
        "df.Class = le.fit_transform(df.Class)\n",
        "df.head()"
      ]
    },
    {
      "cell_type": "code",
      "execution_count": null,
      "metadata": {
        "colab": {
          "base_uri": "https://localhost:8080/"
        },
        "id": "HZeba15eEGMs",
        "outputId": "9920ff0c-417f-48a7-aa85-5ad3ca87ce70"
      },
      "outputs": [
        {
          "name": "stdout",
          "output_type": "stream",
          "text": [
            "<class 'pandas.core.frame.DataFrame'>\n",
            "RangeIndex: 13611 entries, 0 to 13610\n",
            "Data columns (total 9 columns):\n",
            " #   Column         Non-Null Count  Dtype  \n",
            "---  ------         --------------  -----  \n",
            " 0   Area           3349 non-null   float64\n",
            " 1   Perimeter      3349 non-null   float64\n",
            " 2   ConvexArea     3349 non-null   float64\n",
            " 3   EquivDiameter  3349 non-null   float64\n",
            " 4   Extent         3349 non-null   float64\n",
            " 5   Solidity       3349 non-null   float64\n",
            " 6   roundness      3349 non-null   float64\n",
            " 7   Compactness    3349 non-null   float64\n",
            " 8   Class          13611 non-null  int64  \n",
            "dtypes: float64(8), int64(1)\n",
            "memory usage: 957.1 KB\n"
          ]
        }
      ],
      "source": [
        "df.info()"
      ]
    },
    {
      "cell_type": "markdown",
      "metadata": {
        "id": "tg-GEX4WPZMT"
      },
      "source": [
        "Dropping rows with \"NA\""
      ]
    },
    {
      "cell_type": "code",
      "execution_count": null,
      "metadata": {
        "colab": {
          "base_uri": "https://localhost:8080/"
        },
        "id": "6RWAsaXqEJjj",
        "outputId": "60ed415e-5c7d-45b8-d975-92e5b55a9680"
      },
      "outputs": [
        {
          "name": "stdout",
          "output_type": "stream",
          "text": [
            "<class 'pandas.core.frame.DataFrame'>\n",
            "Int64Index: 3349 entries, 0 to 3348\n",
            "Data columns (total 9 columns):\n",
            " #   Column         Non-Null Count  Dtype  \n",
            "---  ------         --------------  -----  \n",
            " 0   Area           3349 non-null   float64\n",
            " 1   Perimeter      3349 non-null   float64\n",
            " 2   ConvexArea     3349 non-null   float64\n",
            " 3   EquivDiameter  3349 non-null   float64\n",
            " 4   Extent         3349 non-null   float64\n",
            " 5   Solidity       3349 non-null   float64\n",
            " 6   roundness      3349 non-null   float64\n",
            " 7   Compactness    3349 non-null   float64\n",
            " 8   Class          3349 non-null   int64  \n",
            "dtypes: float64(8), int64(1)\n",
            "memory usage: 261.6 KB\n"
          ]
        }
      ],
      "source": [
        "df = df.dropna()\n",
        "df.info()"
      ]
    },
    {
      "cell_type": "code",
      "execution_count": null,
      "metadata": {
        "colab": {
          "base_uri": "https://localhost:8080/",
          "height": 613
        },
        "id": "iOAP_dJ5ESTk",
        "outputId": "7f74b525-894b-4447-8d01-51fa81b78861"
      },
      "outputs": [
        {
          "data": {
            "text/plain": [
              "array([[<Axes: title={'center': 'Area'}>,\n",
              "        <Axes: title={'center': 'Perimeter'}>,\n",
              "        <Axes: title={'center': 'ConvexArea'}>],\n",
              "       [<Axes: title={'center': 'EquivDiameter'}>,\n",
              "        <Axes: title={'center': 'Extent'}>,\n",
              "        <Axes: title={'center': 'Solidity'}>],\n",
              "       [<Axes: title={'center': 'roundness'}>,\n",
              "        <Axes: title={'center': 'Compactness'}>,\n",
              "        <Axes: title={'center': 'Class'}>]], dtype=object)"
            ]
          },
          "execution_count": 6,
          "metadata": {},
          "output_type": "execute_result"
        },
        {
          "data": {
            "image/png": "[encoded data removed]",
            "text/plain": [
              "<Figure size 640x480 with 9 Axes>"
            ]
          },
          "metadata": {},
          "output_type": "display_data"
        }
      ],
      "source": [
        "df.hist()"
      ]
    },
    {
      "cell_type": "code",
      "execution_count": null,
      "metadata": {
        "colab": {
          "base_uri": "https://localhost:8080/",
          "height": 700
        },
        "id": "okIX0s-dEVNL",
        "outputId": "b25887ef-6725-4fc4-cdb3-2cf7d2c2ab22"
      },
      "outputs": [
        {
          "data": {
            "text/plain": [
              "<Axes: >"
            ]
          },
          "execution_count": 7,
          "metadata": {},
          "output_type": "execute_result"
        },
        {
          "data": {
            "image/png": "[encoded data removed]",
            "text/plain": [
              "<Figure size 1500x800 with 2 Axes>"
            ]
          },
          "metadata": {},
          "output_type": "display_data"
        }
      ],
      "source": [
        "from matplotlib import pyplot as plt\n",
        "import seaborn as sns\n",
        "plt.figure(figsize=(15,8))\n",
        "sns.heatmap(df.corr(),annot=True)"
      ]
    },
    {
      "cell_type": "markdown",
      "metadata": {
        "id": "qyndjb3PPwPL"
      },
      "source": [
        " A.    “Feature with more standard deviation has more information gain”.  Show the correctness/incorrectness of the statement through your calculations on the seed dataset.  You may use certain library functions for performing numeric computations wherever needed. "
      ]
    },
    {
      "cell_type": "code",
      "execution_count": null,
      "metadata": {
        "id": "WODMaW3DFzIs"
      },
      "outputs": [],
      "source": [
        "# Calculate information gain for all attributes\n",
        "def calculate_information_gain(X, y):\n",
        "    entropy_parent = entropy(y)\n",
        "    n_samples = len(y)\n",
        "    information_gains = []\n",
        "    for feature in X.columns:\n",
        "        unique_values = X[feature].unique()\n",
        "        entropy_weighted_sum = 0\n",
        "        for value in unique_values:\n",
        "            indices = X[feature] == value\n",
        "            y_subset = y[indices]\n",
        "            entropy_subset = entropy(y_subset)\n",
        "            weight = len(y_subset) / n_samples\n",
        "            entropy_weighted_sum += weight * entropy_subset\n",
        "        information_gain = entropy_parent - entropy_weighted_sum\n",
        "        information_gains.append((feature, information_gain))\n",
        "    return information_gains\n",
        "\n",
        "# Calculate entropy of a target variable\n",
        "def entropy(y):\n",
        "    unique_classes, class_counts = np.unique(y, return_counts=True)\n",
        "    probabilities = class_counts / len(y)\n",
        "    entropy = -np.sum(probabilities * np.log2(probabilities))\n",
        "    return entropy"
      ]
    },
    {
      "cell_type": "code",
      "execution_count": null,
      "metadata": {
        "id": "Juq6Ih1JIoDz"
      },
      "outputs": [],
      "source": [
        "X = df.drop('Class', axis=1)\n",
        "y = df['Class']"
      ]
    },
    {
      "cell_type": "code",
      "execution_count": null,
      "metadata": {
        "colab": {
          "base_uri": "https://localhost:8080/"
        },
        "id": "WNUxc019F0TU",
        "outputId": "fae82f3d-3fd6-482b-f754-34cc79560995"
      },
      "outputs": [
        {
          "name": "stdout",
          "output_type": "stream",
          "text": [
            "Attribute: Area with Information Gain: 0.9665989219397487\n",
            "Attribute: Perimeter with Information Gain: 0.967793308323744\n",
            "Attribute: ConvexArea with Information Gain: 0.9665989219397487\n",
            "Attribute: EquivDiameter with Information Gain: 0.9665989219397487\n",
            "Attribute: Extent with Information Gain: 0.9671961151317464\n",
            "Attribute: Solidity with Information Gain: 0.967793308323744\n",
            "Attribute: roundness with Information Gain: 0.967793308323744\n",
            "Attribute: Compactness with Information Gain: 0.967793308323744\n"
          ]
        }
      ],
      "source": [
        "information_gains = calculate_information_gain(X,y)\n",
        "gain_list = []\n",
        "for feature, gain in information_gains:\n",
        "    gain_list.append(gain)\n",
        "    print(\"Attribute:\",feature,\"with Information Gain:\",gain)"
      ]
    },
    {
      "cell_type": "code",
      "execution_count": null,
      "metadata": {
        "colab": {
          "base_uri": "https://localhost:8080/"
        },
        "id": "CTrqMJYeHTfU",
        "outputId": "516cca4e-7a3a-498f-866d-0e51c5c70f6b"
      },
      "outputs": [
        {
          "data": {
            "text/plain": [
              "[0.9665989219397487,\n",
              " 0.967793308323744,\n",
              " 0.9665989219397487,\n",
              " 0.9665989219397487,\n",
              " 0.9671961151317464,\n",
              " 0.967793308323744,\n",
              " 0.967793308323744,\n",
              " 0.967793308323744]"
            ]
          },
          "execution_count": 11,
          "metadata": {},
          "output_type": "execute_result"
        }
      ],
      "source": [
        "(gain_list)"
      ]
    },
    {
      "cell_type": "code",
      "execution_count": null,
      "metadata": {
        "colab": {
          "base_uri": "https://localhost:8080/"
        },
        "id": "T-OW3WP2GNqb",
        "outputId": "f663e7ce-aaa4-4393-d30c-328bd84b58be"
      },
      "outputs": [
        {
          "name": "stdout",
          "output_type": "stream",
          "text": [
            "Attribute: Area with Standard Deviation: 16413.178606955065\n",
            "Attribute: Perimeter with Standard Deviation: 169.67322683123203\n",
            "Attribute: ConvexArea with Standard Deviation: 16828.627216289453\n",
            "Attribute: EquivDiameter with Standard Deviation: 39.361511300120235\n",
            "Attribute: Extent with Standard Deviation: 0.03129979129343581\n",
            "Attribute: Solidity with Standard Deviation: 0.005055594629768679\n",
            "Attribute: roundness with Standard Deviation: 0.08081638940107896\n",
            "Attribute: Compactness with Standard Deviation: 0.05437469314187769\n"
          ]
        }
      ],
      "source": [
        "from statistics import *\n",
        "features = ['Area','Perimeter','ConvexArea','EquivDiameter','Extent','Solidity','roundness','Compactness']\n",
        "stdev_list = []\n",
        "for feature in features:\n",
        "  std = stdev(np.array(df[feature]))\n",
        "  stdev_list.append(std)\n",
        "  print(\"Attribute:\",feature,\"with Standard Deviation:\",std)"
      ]
    },
    {
      "cell_type": "code",
      "execution_count": null,
      "metadata": {
        "colab": {
          "base_uri": "https://localhost:8080/"
        },
        "id": "KbJUYid2Phl8",
        "outputId": "add098f0-acec-40dd-cf2d-3163426c12e1"
      },
      "outputs": [
        {
          "data": {
            "text/plain": [
              "[16413.178606955065,\n",
              " 169.67322683123203,\n",
              " 16828.627216289453,\n",
              " 39.361511300120235,\n",
              " 0.03129979129343581,\n",
              " 0.005055594629768679,\n",
              " 0.08081638940107896,\n",
              " 0.05437469314187769]"
            ]
          },
          "execution_count": 13,
          "metadata": {},
          "output_type": "execute_result"
        }
      ],
      "source": [
        "stdev_list"
      ]
    },
    {
      "cell_type": "markdown",
      "metadata": {
        "id": "bbGobDz1RBts"
      },
      "source": [
        "Calculating Corrrelation between Standard Deviation And Information Gain in The Feature Vectors"
      ]
    },
    {
      "cell_type": "code",
      "execution_count": null,
      "metadata": {
        "colab": {
          "base_uri": "https://localhost:8080/"
        },
        "id": "ZLAaFf42KIaq",
        "outputId": "2e2c4714-519a-45bd-e938-86a3a99629a3"
      },
      "outputs": [
        {
          "data": {
            "text/plain": [
              "-0.7000709969781018"
            ]
          },
          "execution_count": 14,
          "metadata": {},
          "output_type": "execute_result"
        }
      ],
      "source": [
        "c = correlation(stdev_list,gain_list)\n",
        "c"
      ]
    },
    {
      "cell_type": "markdown",
      "metadata": {
        "id": "rRfC5ciwOUlT"
      },
      "source": [
        "Show the correctness/incorrectness of the statement : \"Feature with more standard deviation has more information gain\""
      ]
    },
    {
      "cell_type": "code",
      "execution_count": null,
      "metadata": {
        "colab": {
          "base_uri": "https://localhost:8080/"
        },
        "id": "cl-NgnvHOAmC",
        "outputId": "bbe174e1-76e6-4e79-cb26-f95d39fee492"
      },
      "outputs": [
        {
          "name": "stdout",
          "output_type": "stream",
          "text": [
            "Negative Correlation\n",
            "The statement is incorrect\n",
            "Feature with more standard deviation don't have more information gain\n"
          ]
        }
      ],
      "source": [
        "if c > 0:\n",
        "  print(\"Positive Correlation\\nThe statement is correct\\nFeature with more standard deviation has more information gain\")\n",
        "elif c < 0:\n",
        "  print(\"Negative Correlation\\nThe statement is incorrect\\nFeature with more standard deviation don't have more information gain\")\n",
        "else:\n",
        "  print(\"No Correlation\\nThe statement is incorrect:Feature with more standard deviation don't have more information gain\")"
      ]
    },
    {
      "cell_type": "markdown",
      "metadata": {
        "id": "kkbDgShOP2ez"
      },
      "source": [
        "B.     Build a machine learning model using sklearn library to predict variety of the seed using the seed dataset. Show your results for gini index and entropy. Also print the decision tree for a depth of 3."
      ]
    },
    {
      "cell_type": "code",
      "execution_count": null,
      "metadata": {
        "colab": {
          "base_uri": "https://localhost:8080/",
          "height": 424
        },
        "id": "L8f6LX11Ezpk",
        "outputId": "1355d85f-ce23-4145-cc23-fbb2442beb5e"
      },
      "outputs": [
        {
          "data": {
            "text/html": [
              "\n",
              "\n",
              "  <div id=\"df-b25f13c7-48bb-43e1-be42-51420ca22ece\">\n",
              "    <div class=\"colab-df-container\">\n",
              "      <div>\n",
              "<style scoped>\n",
              "    .dataframe tbody tr th:only-of-type {\n",
              "        vertical-align: middle;\n",
              "    }\n",
              "\n",
              "    .dataframe tbody tr th {\n",
              "        vertical-align: top;\n",
              "    }\n",
              "\n",
              "    .dataframe thead th {\n",
              "        text-align: right;\n",
              "    }\n",
              "</style>\n",
              "<table border=\"1\" class=\"dataframe\">\n",
              "  <thead>\n",
              "    <tr style=\"text-align: right;\">\n",
              "      <th></th>\n",
              "      <th>Area</th>\n",
              "      <th>Perimeter</th>\n",
              "      <th>ConvexArea</th>\n",
              "      <th>EquivDiameter</th>\n",
              "      <th>Extent</th>\n",
              "      <th>Solidity</th>\n",
              "      <th>roundness</th>\n",
              "      <th>Compactness</th>\n",
              "    </tr>\n",
              "  </thead>\n",
              "  <tbody>\n",
              "    <tr>\n",
              "      <th>0</th>\n",
              "      <td>28395.0</td>\n",
              "      <td>610.291</td>\n",
              "      <td>28715.0</td>\n",
              "      <td>190.141097</td>\n",
              "      <td>0.763923</td>\n",
              "      <td>0.988856</td>\n",
              "      <td>0.958027</td>\n",
              "      <td>0.913358</td>\n",
              "    </tr>\n",
              "    <tr>\n",
              "      <th>1</th>\n",
              "      <td>28734.0</td>\n",
              "      <td>638.018</td>\n",
              "      <td>29172.0</td>\n",
              "      <td>191.272751</td>\n",
              "      <td>0.783968</td>\n",
              "      <td>0.984986</td>\n",
              "      <td>0.887034</td>\n",
              "      <td>0.953861</td>\n",
              "    </tr>\n",
              "    <tr>\n",
              "      <th>2</th>\n",
              "      <td>29380.0</td>\n",
              "      <td>624.110</td>\n",
              "      <td>29690.0</td>\n",
              "      <td>193.410904</td>\n",
              "      <td>0.778113</td>\n",
              "      <td>0.989559</td>\n",
              "      <td>0.947849</td>\n",
              "      <td>0.908774</td>\n",
              "    </tr>\n",
              "    <tr>\n",
              "      <th>3</th>\n",
              "      <td>30008.0</td>\n",
              "      <td>645.884</td>\n",
              "      <td>30724.0</td>\n",
              "      <td>195.467062</td>\n",
              "      <td>0.782681</td>\n",
              "      <td>0.976696</td>\n",
              "      <td>0.903936</td>\n",
              "      <td>0.928329</td>\n",
              "    </tr>\n",
              "    <tr>\n",
              "      <th>4</th>\n",
              "      <td>30140.0</td>\n",
              "      <td>620.134</td>\n",
              "      <td>30417.0</td>\n",
              "      <td>195.896503</td>\n",
              "      <td>0.773098</td>\n",
              "      <td>0.990893</td>\n",
              "      <td>0.984877</td>\n",
              "      <td>0.970516</td>\n",
              "    </tr>\n",
              "    <tr>\n",
              "      <th>...</th>\n",
              "      <td>...</td>\n",
              "      <td>...</td>\n",
              "      <td>...</td>\n",
              "      <td>...</td>\n",
              "      <td>...</td>\n",
              "      <td>...</td>\n",
              "      <td>...</td>\n",
              "      <td>...</td>\n",
              "    </tr>\n",
              "    <tr>\n",
              "      <th>3344</th>\n",
              "      <td>100846.0</td>\n",
              "      <td>1297.770</td>\n",
              "      <td>102015.0</td>\n",
              "      <td>358.331013</td>\n",
              "      <td>0.792036</td>\n",
              "      <td>0.988541</td>\n",
              "      <td>0.752442</td>\n",
              "      <td>0.763567</td>\n",
              "    </tr>\n",
              "    <tr>\n",
              "      <th>3345</th>\n",
              "      <td>102015.0</td>\n",
              "      <td>1271.970</td>\n",
              "      <td>103901.0</td>\n",
              "      <td>360.401904</td>\n",
              "      <td>0.804973</td>\n",
              "      <td>0.981848</td>\n",
              "      <td>0.792356</td>\n",
              "      <td>0.788985</td>\n",
              "    </tr>\n",
              "    <tr>\n",
              "      <th>3346</th>\n",
              "      <td>102379.0</td>\n",
              "      <td>1296.377</td>\n",
              "      <td>104111.0</td>\n",
              "      <td>361.044307</td>\n",
              "      <td>0.739412</td>\n",
              "      <td>0.983364</td>\n",
              "      <td>0.765523</td>\n",
              "      <td>0.790512</td>\n",
              "    </tr>\n",
              "    <tr>\n",
              "      <th>3347</th>\n",
              "      <td>105542.0</td>\n",
              "      <td>1265.623</td>\n",
              "      <td>107112.0</td>\n",
              "      <td>366.579116</td>\n",
              "      <td>0.747888</td>\n",
              "      <td>0.985342</td>\n",
              "      <td>0.827993</td>\n",
              "      <td>0.786421</td>\n",
              "    </tr>\n",
              "    <tr>\n",
              "      <th>3348</th>\n",
              "      <td>115967.0</td>\n",
              "      <td>1359.763</td>\n",
              "      <td>118497.0</td>\n",
              "      <td>384.257427</td>\n",
              "      <td>0.742712</td>\n",
              "      <td>0.978649</td>\n",
              "      <td>0.788166</td>\n",
              "      <td>0.854941</td>\n",
              "    </tr>\n",
              "  </tbody>\n",
              "</table>\n",
              "<p>3349 rows × 8 columns</p>\n",
              "</div>\n",
              "      <button class=\"colab-df-convert\" onclick=\"convertToInteractive('df-b25f13c7-48bb-43e1-be42-51420ca22ece')\"\n",
              "              title=\"Convert this dataframe to an interactive table.\"\n",
              "              style=\"display:none;\">\n",
              "\n",
              "  <svg xmlns=\"http://www.w3.org/2000/svg\" height=\"24px\"viewBox=\"0 0 24 24\"\n",
              "       width=\"24px\">\n",
              "    <path d=\"M0 0h24v24H0V0z\" fill=\"none\"/>\n",
              "    <path d=\"M18.56 5.44l.94 2.06.94-2.06 2.06-.94-2.06-.94-.94-2.06-.94 2.06-2.06.94zm-11 1L8.5 8.5l.94-2.06 2.06-.94-2.06-.94L8.5 2.5l-.94 2.06-2.06.94zm10 10l.94 2.06.94-2.06 2.06-.94-2.06-.94-.94-2.06-.94 2.06-2.06.94z\"/><path d=\"M17.41 7.96l-1.37-1.37c-.4-.4-.92-.59-1.43-.59-.52 0-1.04.2-1.43.59L10.3 9.45l-7.72 7.72c-.78.78-.78 2.05 0 2.83L4 21.41c.39.39.9.59 1.41.59.51 0 1.02-.2 1.41-.59l7.78-7.78 2.81-2.81c.8-.78.8-2.07 0-2.86zM5.41 20L4 18.59l7.72-7.72 1.47 1.35L5.41 20z\"/>\n",
              "  </svg>\n",
              "      </button>\n",
              "\n",
              "\n",
              "\n",
              "    <div id=\"df-dcb963d2-4435-4522-866b-6a3412d36513\">\n",
              "      <button class=\"colab-df-quickchart\" onclick=\"quickchart('df-dcb963d2-4435-4522-866b-6a3412d36513')\"\n",
              "              title=\"Suggest charts.\"\n",
              "              style=\"display:none;\">\n",
              "\n",
              "<svg xmlns=\"http://www.w3.org/2000/svg\" height=\"24px\"viewBox=\"0 0 24 24\"\n",
              "     width=\"24px\">\n",
              "    <g>\n",
              "        <path d=\"M19 3H5c-1.1 0-2 .9-2 2v14c0 1.1.9 2 2 2h14c1.1 0 2-.9 2-2V5c0-1.1-.9-2-2-2zM9 17H7v-7h2v7zm4 0h-2V7h2v10zm4 0h-2v-4h2v4z\"/>\n",
              "    </g>\n",
              "</svg>\n",
              "      </button>\n",
              "    </div>\n",
              "\n",
              "<style>\n",
              "  .colab-df-quickchart {\n",
              "    background-color: #E8F0FE;\n",
              "    border: none;\n",
              "    border-radius: 50%;\n",
              "    cursor: pointer;\n",
              "    display: none;\n",
              "    fill: #1967D2;\n",
              "    height: 32px;\n",
              "    padding: 0 0 0 0;\n",
              "    width: 32px;\n",
              "  }\n",
              "\n",
              "  .colab-df-quickchart:hover {\n",
              "    background-color: #E2EBFA;\n",
              "    box-shadow: 0px 1px 2px rgba(60, 64, 67, 0.3), 0px 1px 3px 1px rgba(60, 64, 67, 0.15);\n",
              "    fill: #174EA6;\n",
              "  }\n",
              "\n",
              "  [theme=dark] .colab-df-quickchart {\n",
              "    background-color: #3B4455;\n",
              "    fill: #D2E3FC;\n",
              "  }\n",
              "\n",
              "  [theme=dark] .colab-df-quickchart:hover {\n",
              "    background-color: #434B5C;\n",
              "    box-shadow: 0px 1px 3px 1px rgba(0, 0, 0, 0.15);\n",
              "    filter: drop-shadow(0px 1px 2px rgba(0, 0, 0, 0.3));\n",
              "    fill: #FFFFFF;\n",
              "  }\n",
              "</style>\n",
              "\n",
              "    <script>\n",
              "      async function quickchart(key) {\n",
              "        const containerElement = document.querySelector('#' + key);\n",
              "        const charts = await google.colab.kernel.invokeFunction(\n",
              "            'suggestCharts', [key], {});\n",
              "      }\n",
              "    </script>\n",
              "\n",
              "      <script>\n",
              "\n",
              "function displayQuickchartButton(domScope) {\n",
              "  let quickchartButtonEl =\n",
              "    domScope.querySelector('#df-dcb963d2-4435-4522-866b-6a3412d36513 button.colab-df-quickchart');\n",
              "  quickchartButtonEl.style.display =\n",
              "    google.colab.kernel.accessAllowed ? 'block' : 'none';\n",
              "}\n",
              "\n",
              "        displayQuickchartButton(document);\n",
              "      </script>\n",
              "      <style>\n",
              "    .colab-df-container {\n",
              "      display:flex;\n",
              "      flex-wrap:wrap;\n",
              "      gap: 12px;\n",
              "    }\n",
              "\n",
              "    .colab-df-convert {\n",
              "      background-color: #E8F0FE;\n",
              "      border: none;\n",
              "      border-radius: 50%;\n",
              "      cursor: pointer;\n",
              "      display: none;\n",
              "      fill: #1967D2;\n",
              "      height: 32px;\n",
              "      padding: 0 0 0 0;\n",
              "      width: 32px;\n",
              "    }\n",
              "\n",
              "    .colab-df-convert:hover {\n",
              "      background-color: #E2EBFA;\n",
              "      box-shadow: 0px 1px 2px rgba(60, 64, 67, 0.3), 0px 1px 3px 1px rgba(60, 64, 67, 0.15);\n",
              "      fill: #174EA6;\n",
              "    }\n",
              "\n",
              "    [theme=dark] .colab-df-convert {\n",
              "      background-color: #3B4455;\n",
              "      fill: #D2E3FC;\n",
              "    }\n",
              "\n",
              "    [theme=dark] .colab-df-convert:hover {\n",
              "      background-color: #434B5C;\n",
              "      box-shadow: 0px 1px 3px 1px rgba(0, 0, 0, 0.15);\n",
              "      filter: drop-shadow(0px 1px 2px rgba(0, 0, 0, 0.3));\n",
              "      fill: #FFFFFF;\n",
              "    }\n",
              "  </style>\n",
              "\n",
              "      <script>\n",
              "        const buttonEl =\n",
              "          document.querySelector('#df-b25f13c7-48bb-43e1-be42-51420ca22ece button.colab-df-convert');\n",
              "        buttonEl.style.display =\n",
              "          google.colab.kernel.accessAllowed ? 'block' : 'none';\n",
              "\n",
              "        async function convertToInteractive(key) {\n",
              "          const element = document.querySelector('#df-b25f13c7-48bb-43e1-be42-51420ca22ece');\n",
              "          const dataTable =\n",
              "            await google.colab.kernel.invokeFunction('convertToInteractive',\n",
              "                                                     [key], {});\n",
              "          if (!dataTable) return;\n",
              "\n",
              "          const docLinkHtml = 'Like what you see? Visit the ' +\n",
              "            '<a target=\"_blank\" href=https://colab.research.google.com/notebooks/data_table.ipynb>data table notebook</a>'\n",
              "            + ' to learn more about interactive tables.';\n",
              "          element.innerHTML = '';\n",
              "          dataTable['output_type'] = 'display_data';\n",
              "          await google.colab.output.renderOutput(dataTable, element);\n",
              "          const docLink = document.createElement('div');\n",
              "          docLink.innerHTML = docLinkHtml;\n",
              "          element.appendChild(docLink);\n",
              "        }\n",
              "      </script>\n",
              "    </div>\n",
              "  </div>\n"
            ],
            "text/plain": [
              "          Area  Perimeter  ConvexArea  EquivDiameter    Extent  Solidity  \\\n",
              "0      28395.0    610.291     28715.0     190.141097  0.763923  0.988856   \n",
              "1      28734.0    638.018     29172.0     191.272751  0.783968  0.984986   \n",
              "2      29380.0    624.110     29690.0     193.410904  0.778113  0.989559   \n",
              "3      30008.0    645.884     30724.0     195.467062  0.782681  0.976696   \n",
              "4      30140.0    620.134     30417.0     195.896503  0.773098  0.990893   \n",
              "...        ...        ...         ...            ...       ...       ...   \n",
              "3344  100846.0   1297.770    102015.0     358.331013  0.792036  0.988541   \n",
              "3345  102015.0   1271.970    103901.0     360.401904  0.804973  0.981848   \n",
              "3346  102379.0   1296.377    104111.0     361.044307  0.739412  0.983364   \n",
              "3347  105542.0   1265.623    107112.0     366.579116  0.747888  0.985342   \n",
              "3348  115967.0   1359.763    118497.0     384.257427  0.742712  0.978649   \n",
              "\n",
              "      roundness  Compactness  \n",
              "0      0.958027     0.913358  \n",
              "1      0.887034     0.953861  \n",
              "2      0.947849     0.908774  \n",
              "3      0.903936     0.928329  \n",
              "4      0.984877     0.970516  \n",
              "...         ...          ...  \n",
              "3344   0.752442     0.763567  \n",
              "3345   0.792356     0.788985  \n",
              "3346   0.765523     0.790512  \n",
              "3347   0.827993     0.786421  \n",
              "3348   0.788166     0.854941  \n",
              "\n",
              "[3349 rows x 8 columns]"
            ]
          },
          "execution_count": 16,
          "metadata": {},
          "output_type": "execute_result"
        }
      ],
      "source": [
        "X = df.drop(columns=['Class'])\n",
        "y = df['Class']\n",
        "X"
      ]
    },
    {
      "cell_type": "code",
      "execution_count": null,
      "metadata": {
        "colab": {
          "base_uri": "https://localhost:8080/"
        },
        "id": "iwkWKXz8FQ9b",
        "outputId": "7c2d7705-8e56-4a6f-99a1-4d47e7897202"
      },
      "outputs": [
        {
          "data": {
            "text/plain": [
              "0       0\n",
              "1       0\n",
              "2       0\n",
              "3       0\n",
              "4       0\n",
              "       ..\n",
              "3344    1\n",
              "3345    1\n",
              "3346    1\n",
              "3347    1\n",
              "3348    1\n",
              "Name: Class, Length: 3349, dtype: int64"
            ]
          },
          "execution_count": 17,
          "metadata": {},
          "output_type": "execute_result"
        }
      ],
      "source": [
        "y"
      ]
    },
    {
      "cell_type": "markdown",
      "metadata": {
        "id": "oJnEnZdXRPAC"
      },
      "source": [
        "Normalizing/Scaling the feature vector"
      ]
    },
    {
      "cell_type": "code",
      "execution_count": null,
      "metadata": {
        "colab": {
          "base_uri": "https://localhost:8080/"
        },
        "id": "SEgAqN_sFUOk",
        "outputId": "35003b78-3c33-4929-c0f3-cbcaead91684"
      },
      "outputs": [
        {
          "data": {
            "text/plain": [
              "array([[-1.41969203, -1.4328578 , -1.40825139, ...,  0.29364318,\n",
              "         0.87228002,  0.9706361 ],\n",
              "       [-1.39903481, -1.26941928, -1.38109123, ..., -0.47203806,\n",
              "        -0.00630527,  1.7156359 ],\n",
              "       [-1.35967032, -1.35140085, -1.35030575, ...,  0.4326733 ,\n",
              "         0.7463257 ,  0.88632849],\n",
              "       ...,\n",
              "       [ 3.08857842,  2.61131857,  3.07264049, ..., -0.79285792,\n",
              "        -1.51007219, -1.28894503],\n",
              "       [ 3.28131819,  2.43003721,  3.2509942 , ..., -0.40144394,\n",
              "        -0.73697182, -1.36419505],\n",
              "       [ 3.91657338,  2.98495127,  3.927621  , ..., -1.72556029,\n",
              "        -1.22984579, -0.10386373]])"
            ]
          },
          "execution_count": 18,
          "metadata": {},
          "output_type": "execute_result"
        }
      ],
      "source": [
        "from sklearn.preprocessing import StandardScaler\n",
        "sc=StandardScaler()\n",
        "X=sc.fit_transform(X)\n",
        "X"
      ]
    },
    {
      "cell_type": "code",
      "execution_count": null,
      "metadata": {
        "id": "BXbDerZ8KhD7"
      },
      "outputs": [],
      "source": [
        "from sklearn.model_selection import train_test_split\n",
        "X_train, X_test, y_train, y_test = train_test_split(X, y, test_size = 0.25, random_state = 42)"
      ]
    },
    {
      "cell_type": "markdown",
      "metadata": {
        "id": "qoqDHluIP6_y"
      },
      "source": [
        "(i)Using Gini index"
      ]
    },
    {
      "cell_type": "markdown",
      "metadata": {
        "id": "nqE12TT1RUFU"
      },
      "source": [
        "Creating and Fitting Our Model"
      ]
    },
    {
      "cell_type": "code",
      "execution_count": null,
      "metadata": {
        "colab": {
          "base_uri": "https://localhost:8080/",
          "height": 75
        },
        "id": "gW5LX8-aKoeq",
        "outputId": "a1bd5842-a412-4cc4-fbb0-8109781cb647"
      },
      "outputs": [
        {
          "data": {
            "text/html": [
              "<style>#sk-container-id-1 {color: black;background-color: white;}#sk-container-id-1 pre{padding: 0;}#sk-container-id-1 div.sk-toggleable {background-color: white;}#sk-container-id-1 label.sk-toggleable__label {cursor: pointer;display: block;width: 100%;margin-bottom: 0;padding: 0.3em;box-sizing: border-box;text-align: center;}#sk-container-id-1 label.sk-toggleable__label-arrow:before {content: \"▸\";float: left;margin-right: 0.25em;color: #696969;}#sk-container-id-1 label.sk-toggleable__label-arrow:hover:before {color: black;}#sk-container-id-1 div.sk-estimator:hover label.sk-toggleable__label-arrow:before {color: black;}#sk-container-id-1 div.sk-toggleable__content {max-height: 0;max-width: 0;overflow: hidden;text-align: left;background-color: #f0f8ff;}#sk-container-id-1 div.sk-toggleable__content pre {margin: 0.2em;color: black;border-radius: 0.25em;background-color: #f0f8ff;}#sk-container-id-1 input.sk-toggleable__control:checked~div.sk-toggleable__content {max-height: 200px;max-width: 100%;overflow: auto;}#sk-container-id-1 input.sk-toggleable__control:checked~label.sk-toggleable__label-arrow:before {content: \"▾\";}#sk-container-id-1 div.sk-estimator input.sk-toggleable__control:checked~label.sk-toggleable__label {background-color: #d4ebff;}#sk-container-id-1 div.sk-label input.sk-toggleable__control:checked~label.sk-toggleable__label {background-color: #d4ebff;}#sk-container-id-1 input.sk-hidden--visually {border: 0;clip: rect(1px 1px 1px 1px);clip: rect(1px, 1px, 1px, 1px);height: 1px;margin: -1px;overflow: hidden;padding: 0;position: absolute;width: 1px;}#sk-container-id-1 div.sk-estimator {font-family: monospace;background-color: #f0f8ff;border: 1px dotted black;border-radius: 0.25em;box-sizing: border-box;margin-bottom: 0.5em;}#sk-container-id-1 div.sk-estimator:hover {background-color: #d4ebff;}#sk-container-id-1 div.sk-parallel-item::after {content: \"\";width: 100%;border-bottom: 1px solid gray;flex-grow: 1;}#sk-container-id-1 div.sk-label:hover label.sk-toggleable__label {background-color: #d4ebff;}#sk-container-id-1 div.sk-serial::before {content: \"\";position: absolute;border-left: 1px solid gray;box-sizing: border-box;top: 0;bottom: 0;left: 50%;z-index: 0;}#sk-container-id-1 div.sk-serial {display: flex;flex-direction: column;align-items: center;background-color: white;padding-right: 0.2em;padding-left: 0.2em;position: relative;}#sk-container-id-1 div.sk-item {position: relative;z-index: 1;}#sk-container-id-1 div.sk-parallel {display: flex;align-items: stretch;justify-content: center;background-color: white;position: relative;}#sk-container-id-1 div.sk-item::before, #sk-container-id-1 div.sk-parallel-item::before {content: \"\";position: absolute;border-left: 1px solid gray;box-sizing: border-box;top: 0;bottom: 0;left: 50%;z-index: -1;}#sk-container-id-1 div.sk-parallel-item {display: flex;flex-direction: column;z-index: 1;position: relative;background-color: white;}#sk-container-id-1 div.sk-parallel-item:first-child::after {align-self: flex-end;width: 50%;}#sk-container-id-1 div.sk-parallel-item:last-child::after {align-self: flex-start;width: 50%;}#sk-container-id-1 div.sk-parallel-item:only-child::after {width: 0;}#sk-container-id-1 div.sk-dashed-wrapped {border: 1px dashed gray;margin: 0 0.4em 0.5em 0.4em;box-sizing: border-box;padding-bottom: 0.4em;background-color: white;}#sk-container-id-1 div.sk-label label {font-family: monospace;font-weight: bold;display: inline-block;line-height: 1.2em;}#sk-container-id-1 div.sk-label-container {text-align: center;}#sk-container-id-1 div.sk-container {/* jupyter's `normalize.less` sets `[hidden] { display: none; }` but bootstrap.min.css set `[hidden] { display: none !important; }` so we also need the `!important` here to be able to override the default hidden behavior on the sphinx rendered scikit-learn.org. See: https://github.com/scikit-learn/scikit-learn/issues/21755 */display: inline-block !important;position: relative;}#sk-container-id-1 div.sk-text-repr-fallback {display: none;}</style><div id=\"sk-container-id-1\" class=\"sk-top-container\"><div class=\"sk-text-repr-fallback\"><pre>DecisionTreeClassifier(max_depth=3)</pre><b>In a Jupyter environment, please rerun this cell to show the HTML representation or trust the notebook. <br />On GitHub, the HTML representation is unable to render, please try loading this page with nbviewer.org.</b></div><div class=\"sk-container\" hidden><div class=\"sk-item\"><div class=\"sk-estimator sk-toggleable\"><input class=\"sk-toggleable__control sk-hidden--visually\" id=\"sk-estimator-id-1\" type=\"checkbox\" checked><label for=\"sk-estimator-id-1\" class=\"sk-toggleable__label sk-toggleable__label-arrow\">DecisionTreeClassifier</label><div class=\"sk-toggleable__content\"><pre>DecisionTreeClassifier(max_depth=3)</pre></div></div></div></div></div>"
            ],
            "text/plain": [
              "DecisionTreeClassifier(max_depth=3)"
            ]
          },
          "execution_count": 20,
          "metadata": {},
          "output_type": "execute_result"
        }
      ],
      "source": [
        "from sklearn.tree import DecisionTreeClassifier\n",
        "clf = DecisionTreeClassifier(max_depth=3,criterion='gini')\n",
        "clf.fit(X_train, y_train)"
      ]
    },
    {
      "cell_type": "markdown",
      "metadata": {
        "id": "FQdGeUBaRn0t"
      },
      "source": [
        "Predicted And Actual Testing Target Values"
      ]
    },
    {
      "cell_type": "code",
      "execution_count": null,
      "metadata": {
        "colab": {
          "base_uri": "https://localhost:8080/"
        },
        "id": "1TWg0nhxLhpD",
        "outputId": "8ee67575-0bb7-4206-a6bf-7ca0f4d5e841"
      },
      "outputs": [
        {
          "name": "stdout",
          "output_type": "stream",
          "text": [
            "Predicted Values =  ['V1' 'V2' 'V1' 'V1' 'V2' 'V1' 'V2' 'V2' 'V1' 'V1' 'V2' 'V2' 'V2' 'V2'\n",
            " 'V2' 'V1' 'V1' 'V1' 'V2' 'V1' 'V1' 'V1' 'V2' 'V1' 'V1' 'V1' 'V2' 'V1'\n",
            " 'V1' 'V1' 'V2' 'V2' 'V1' 'V1' 'V1' 'V1' 'V1' 'V2' 'V1' 'V1' 'V1' 'V1'\n",
            " 'V2' 'V1' 'V1' 'V1' 'V2' 'V2' 'V1' 'V1' 'V1' 'V2' 'V1' 'V2' 'V1' 'V1'\n",
            " 'V1' 'V1' 'V1' 'V1' 'V2' 'V1' 'V1' 'V1' 'V1' 'V1' 'V1' 'V2' 'V1' 'V1'\n",
            " 'V2' 'V1' 'V2' 'V1' 'V1' 'V2' 'V1' 'V1' 'V2' 'V1' 'V2' 'V2' 'V1' 'V2'\n",
            " 'V2' 'V1' 'V1' 'V2' 'V2' 'V1' 'V2' 'V1' 'V2' 'V1' 'V1' 'V1' 'V1' 'V2'\n",
            " 'V2' 'V1' 'V1' 'V2' 'V2' 'V1' 'V2' 'V2' 'V2' 'V1' 'V2' 'V1' 'V1' 'V1'\n",
            " 'V1' 'V2' 'V2' 'V1' 'V1' 'V2' 'V2' 'V1' 'V1' 'V2' 'V2' 'V2' 'V1' 'V2'\n",
            " 'V1' 'V1' 'V1' 'V1' 'V2' 'V1' 'V1' 'V1' 'V1' 'V1' 'V1' 'V1' 'V2' 'V1'\n",
            " 'V2' 'V2' 'V1' 'V1' 'V1' 'V2' 'V1' 'V1' 'V2' 'V1' 'V2' 'V1' 'V2' 'V2'\n",
            " 'V1' 'V2' 'V1' 'V1' 'V1' 'V2' 'V1' 'V1' 'V1' 'V2' 'V1' 'V1' 'V1' 'V1'\n",
            " 'V2' 'V1' 'V2' 'V2' 'V2' 'V1' 'V2' 'V1' 'V2' 'V1' 'V2' 'V1' 'V2' 'V1'\n",
            " 'V1' 'V1' 'V2' 'V1' 'V1' 'V1' 'V1' 'V1' 'V1' 'V1' 'V2' 'V2' 'V1' 'V1'\n",
            " 'V1' 'V2' 'V1' 'V1' 'V1' 'V2' 'V1' 'V2' 'V1' 'V1' 'V2' 'V1' 'V1' 'V2'\n",
            " 'V1' 'V2' 'V1' 'V1' 'V1' 'V1' 'V1' 'V1' 'V1' 'V1' 'V2' 'V1' 'V1' 'V2'\n",
            " 'V2' 'V2' 'V1' 'V1' 'V1' 'V1' 'V1' 'V2' 'V1' 'V2' 'V2' 'V1' 'V1' 'V1'\n",
            " 'V2' 'V2' 'V1' 'V1' 'V1' 'V1' 'V1' 'V2' 'V1' 'V1' 'V2' 'V1' 'V1' 'V2'\n",
            " 'V2' 'V2' 'V1' 'V1' 'V1' 'V2' 'V1' 'V1' 'V1' 'V1' 'V2' 'V1' 'V1' 'V1'\n",
            " 'V2' 'V2' 'V1' 'V1' 'V2' 'V1' 'V1' 'V1' 'V1' 'V2' 'V1' 'V1' 'V1' 'V1'\n",
            " 'V1' 'V1' 'V1' 'V1' 'V1' 'V1' 'V1' 'V1' 'V1' 'V2' 'V1' 'V1' 'V1' 'V1'\n",
            " 'V1' 'V1' 'V2' 'V2' 'V1' 'V2' 'V1' 'V1' 'V1' 'V1' 'V2' 'V1' 'V1' 'V1'\n",
            " 'V1' 'V1' 'V1' 'V1' 'V1' 'V2' 'V1' 'V2' 'V1' 'V1' 'V1' 'V1' 'V2' 'V1'\n",
            " 'V1' 'V1' 'V1' 'V1' 'V2' 'V1' 'V2' 'V1' 'V1' 'V2' 'V1' 'V1' 'V1' 'V1'\n",
            " 'V2' 'V1' 'V2' 'V2' 'V1' 'V1' 'V1' 'V1' 'V2' 'V2' 'V1' 'V2' 'V2' 'V2'\n",
            " 'V2' 'V1' 'V1' 'V2' 'V1' 'V1' 'V1' 'V2' 'V2' 'V1' 'V2' 'V1' 'V1' 'V1'\n",
            " 'V1' 'V1' 'V1' 'V1' 'V1' 'V2' 'V1' 'V1' 'V1' 'V2' 'V2' 'V2' 'V1' 'V1'\n",
            " 'V2' 'V1' 'V1' 'V1' 'V1' 'V2' 'V2' 'V1' 'V1' 'V1' 'V1' 'V2' 'V2' 'V1'\n",
            " 'V2' 'V1' 'V1' 'V1' 'V2' 'V1' 'V2' 'V1' 'V1' 'V1' 'V1' 'V1' 'V1' 'V1'\n",
            " 'V2' 'V2' 'V2' 'V1' 'V1' 'V2' 'V1' 'V2' 'V1' 'V1' 'V1' 'V1' 'V2' 'V1'\n",
            " 'V1' 'V1' 'V2' 'V2' 'V2' 'V2' 'V2' 'V1' 'V2' 'V1' 'V1' 'V2' 'V2' 'V1'\n",
            " 'V2' 'V1' 'V2' 'V2' 'V1' 'V2' 'V2' 'V2' 'V1' 'V1' 'V1' 'V1' 'V1' 'V1'\n",
            " 'V1' 'V1' 'V1' 'V1' 'V1' 'V1' 'V1' 'V2' 'V1' 'V1' 'V1' 'V1' 'V2' 'V1'\n",
            " 'V2' 'V1' 'V2' 'V1' 'V2' 'V2' 'V2' 'V1' 'V2' 'V2' 'V1' 'V1' 'V1' 'V2'\n",
            " 'V1' 'V1' 'V1' 'V2' 'V2' 'V1' 'V2' 'V1' 'V2' 'V1' 'V2' 'V1' 'V2' 'V2'\n",
            " 'V1' 'V1' 'V1' 'V2' 'V1' 'V2' 'V2' 'V1' 'V1' 'V1' 'V1' 'V1' 'V2' 'V2'\n",
            " 'V1' 'V1' 'V1' 'V1' 'V2' 'V1' 'V1' 'V1' 'V2' 'V1' 'V2' 'V2' 'V1' 'V1'\n",
            " 'V2' 'V2' 'V2' 'V2' 'V2' 'V1' 'V1' 'V1' 'V1' 'V1' 'V1' 'V1' 'V2' 'V1'\n",
            " 'V2' 'V1' 'V2' 'V1' 'V1' 'V1' 'V2' 'V2' 'V1' 'V1' 'V2' 'V2' 'V1' 'V1'\n",
            " 'V1' 'V2' 'V2' 'V1' 'V1' 'V2' 'V1' 'V2' 'V1' 'V2' 'V1' 'V1' 'V1' 'V2'\n",
            " 'V1' 'V1' 'V1' 'V1' 'V2' 'V2' 'V1' 'V2' 'V1' 'V1' 'V1' 'V1' 'V2' 'V2'\n",
            " 'V1' 'V1' 'V1' 'V1' 'V2' 'V1' 'V1' 'V1' 'V2' 'V1' 'V2' 'V1' 'V2' 'V2'\n",
            " 'V2' 'V1' 'V1' 'V2' 'V2' 'V1' 'V1' 'V1' 'V2' 'V1' 'V2' 'V1' 'V1' 'V1'\n",
            " 'V1' 'V2' 'V1' 'V1' 'V1' 'V2' 'V1' 'V1' 'V2' 'V1' 'V2' 'V1' 'V1' 'V1'\n",
            " 'V1' 'V2' 'V1' 'V1' 'V2' 'V1' 'V1' 'V1' 'V1' 'V1' 'V2' 'V1' 'V1' 'V1'\n",
            " 'V1' 'V1' 'V1' 'V2' 'V1' 'V1' 'V1' 'V2' 'V1' 'V1' 'V1' 'V2' 'V1' 'V2'\n",
            " 'V1' 'V2' 'V2' 'V2' 'V1' 'V1' 'V2' 'V2' 'V1' 'V2' 'V2' 'V1' 'V2' 'V1'\n",
            " 'V1' 'V2' 'V1' 'V1' 'V2' 'V1' 'V1' 'V2' 'V2' 'V2' 'V1' 'V1' 'V1' 'V2'\n",
            " 'V1' 'V1' 'V1' 'V2' 'V1' 'V1' 'V2' 'V2' 'V2' 'V1' 'V1' 'V2' 'V2' 'V1'\n",
            " 'V1' 'V1' 'V1' 'V2' 'V1' 'V1' 'V1' 'V1' 'V2' 'V1' 'V1' 'V2' 'V1' 'V1'\n",
            " 'V1' 'V1' 'V1' 'V2' 'V2' 'V2' 'V1' 'V2' 'V1' 'V2' 'V2' 'V2' 'V1' 'V2'\n",
            " 'V1' 'V2' 'V1' 'V1' 'V1' 'V1' 'V1' 'V1' 'V1' 'V2' 'V2' 'V1' 'V1' 'V1'\n",
            " 'V2' 'V1' 'V1' 'V1' 'V1' 'V2' 'V2' 'V2' 'V2' 'V2' 'V1' 'V1' 'V1' 'V2'\n",
            " 'V1' 'V2' 'V1' 'V1' 'V2' 'V2' 'V2' 'V2' 'V1' 'V2' 'V1' 'V2' 'V1' 'V1'\n",
            " 'V1' 'V1' 'V2' 'V1' 'V1' 'V1' 'V1' 'V1' 'V1' 'V1' 'V1' 'V1' 'V1' 'V2'\n",
            " 'V1' 'V1' 'V1' 'V2' 'V2' 'V2' 'V2' 'V2' 'V1' 'V1' 'V2' 'V2' 'V2' 'V2'\n",
            " 'V2' 'V2' 'V2' 'V2' 'V2' 'V2' 'V1' 'V2' 'V2' 'V1' 'V2' 'V1' 'V2' 'V1'\n",
            " 'V2' 'V2' 'V1' 'V2' 'V1' 'V1' 'V1' 'V2' 'V2' 'V1' 'V1' 'V1' 'V2' 'V2'\n",
            " 'V1' 'V1' 'V2' 'V1' 'V2' 'V1' 'V1' 'V1' 'V1' 'V1' 'V1' 'V1' 'V1' 'V2'\n",
            " 'V2' 'V1' 'V1' 'V1' 'V1' 'V2' 'V1' 'V2' 'V1' 'V2' 'V2' 'V1']\n",
            "\n",
            "Actual Values =  ['V1' 'V2' 'V1' 'V1' 'V2' 'V1' 'V2' 'V2' 'V1' 'V1' 'V2' 'V2' 'V2' 'V2'\n",
            " 'V2' 'V1' 'V1' 'V1' 'V2' 'V1' 'V1' 'V1' 'V2' 'V1' 'V1' 'V1' 'V2' 'V1'\n",
            " 'V1' 'V1' 'V2' 'V2' 'V1' 'V1' 'V1' 'V1' 'V1' 'V2' 'V1' 'V1' 'V1' 'V1'\n",
            " 'V1' 'V1' 'V1' 'V1' 'V2' 'V2' 'V1' 'V1' 'V1' 'V2' 'V1' 'V2' 'V1' 'V1'\n",
            " 'V1' 'V1' 'V1' 'V1' 'V2' 'V1' 'V1' 'V1' 'V1' 'V1' 'V1' 'V2' 'V1' 'V1'\n",
            " 'V2' 'V1' 'V2' 'V1' 'V1' 'V2' 'V1' 'V1' 'V2' 'V1' 'V2' 'V2' 'V1' 'V2'\n",
            " 'V2' 'V1' 'V1' 'V2' 'V2' 'V1' 'V2' 'V1' 'V2' 'V1' 'V1' 'V1' 'V1' 'V2'\n",
            " 'V2' 'V1' 'V1' 'V2' 'V2' 'V1' 'V2' 'V2' 'V2' 'V1' 'V2' 'V1' 'V1' 'V1'\n",
            " 'V1' 'V2' 'V2' 'V1' 'V1' 'V2' 'V2' 'V1' 'V1' 'V2' 'V2' 'V2' 'V1' 'V2'\n",
            " 'V1' 'V1' 'V1' 'V1' 'V2' 'V1' 'V1' 'V1' 'V1' 'V1' 'V1' 'V1' 'V2' 'V1'\n",
            " 'V2' 'V2' 'V1' 'V1' 'V1' 'V2' 'V1' 'V1' 'V2' 'V1' 'V2' 'V1' 'V2' 'V2'\n",
            " 'V1' 'V2' 'V1' 'V1' 'V1' 'V2' 'V1' 'V1' 'V1' 'V2' 'V1' 'V1' 'V1' 'V1'\n",
            " 'V2' 'V1' 'V2' 'V2' 'V2' 'V1' 'V2' 'V1' 'V2' 'V1' 'V2' 'V1' 'V2' 'V1'\n",
            " 'V1' 'V1' 'V2' 'V1' 'V1' 'V1' 'V1' 'V1' 'V1' 'V1' 'V2' 'V2' 'V1' 'V1'\n",
            " 'V1' 'V2' 'V1' 'V1' 'V1' 'V2' 'V1' 'V2' 'V1' 'V1' 'V2' 'V1' 'V1' 'V2'\n",
            " 'V1' 'V2' 'V1' 'V1' 'V1' 'V1' 'V1' 'V1' 'V1' 'V1' 'V2' 'V1' 'V1' 'V2'\n",
            " 'V2' 'V2' 'V1' 'V1' 'V1' 'V1' 'V1' 'V2' 'V1' 'V2' 'V2' 'V1' 'V1' 'V1'\n",
            " 'V2' 'V2' 'V1' 'V1' 'V1' 'V1' 'V1' 'V2' 'V1' 'V1' 'V2' 'V1' 'V1' 'V2'\n",
            " 'V2' 'V2' 'V1' 'V1' 'V1' 'V2' 'V1' 'V1' 'V1' 'V1' 'V2' 'V1' 'V1' 'V1'\n",
            " 'V2' 'V2' 'V1' 'V1' 'V2' 'V1' 'V1' 'V1' 'V1' 'V2' 'V1' 'V1' 'V1' 'V1'\n",
            " 'V1' 'V1' 'V1' 'V1' 'V1' 'V1' 'V1' 'V1' 'V1' 'V2' 'V1' 'V1' 'V1' 'V1'\n",
            " 'V1' 'V1' 'V2' 'V2' 'V1' 'V2' 'V1' 'V1' 'V1' 'V1' 'V2' 'V1' 'V1' 'V1'\n",
            " 'V1' 'V1' 'V1' 'V1' 'V1' 'V2' 'V1' 'V2' 'V1' 'V1' 'V1' 'V1' 'V2' 'V1'\n",
            " 'V1' 'V1' 'V1' 'V1' 'V2' 'V1' 'V2' 'V1' 'V1' 'V2' 'V1' 'V1' 'V1' 'V1'\n",
            " 'V2' 'V1' 'V2' 'V2' 'V1' 'V1' 'V1' 'V1' 'V2' 'V2' 'V1' 'V2' 'V2' 'V2'\n",
            " 'V2' 'V1' 'V1' 'V2' 'V1' 'V1' 'V1' 'V2' 'V2' 'V1' 'V2' 'V1' 'V1' 'V1'\n",
            " 'V1' 'V1' 'V1' 'V1' 'V1' 'V2' 'V1' 'V1' 'V1' 'V2' 'V2' 'V2' 'V1' 'V1'\n",
            " 'V2' 'V1' 'V1' 'V1' 'V1' 'V2' 'V2' 'V1' 'V1' 'V1' 'V1' 'V2' 'V2' 'V1'\n",
            " 'V2' 'V1' 'V1' 'V1' 'V2' 'V1' 'V2' 'V1' 'V1' 'V1' 'V1' 'V1' 'V1' 'V1'\n",
            " 'V2' 'V2' 'V2' 'V1' 'V1' 'V2' 'V1' 'V2' 'V1' 'V1' 'V1' 'V1' 'V2' 'V1'\n",
            " 'V1' 'V1' 'V2' 'V2' 'V2' 'V2' 'V2' 'V1' 'V2' 'V1' 'V1' 'V2' 'V2' 'V1'\n",
            " 'V2' 'V1' 'V2' 'V2' 'V1' 'V2' 'V2' 'V2' 'V1' 'V1' 'V2' 'V1' 'V1' 'V1'\n",
            " 'V1' 'V1' 'V1' 'V1' 'V1' 'V1' 'V1' 'V2' 'V1' 'V1' 'V1' 'V1' 'V1' 'V1'\n",
            " 'V2' 'V1' 'V2' 'V1' 'V2' 'V2' 'V2' 'V1' 'V2' 'V2' 'V1' 'V1' 'V1' 'V2'\n",
            " 'V1' 'V1' 'V1' 'V2' 'V2' 'V1' 'V2' 'V1' 'V2' 'V1' 'V2' 'V1' 'V2' 'V2'\n",
            " 'V1' 'V1' 'V1' 'V2' 'V1' 'V2' 'V2' 'V1' 'V1' 'V1' 'V1' 'V1' 'V2' 'V2'\n",
            " 'V1' 'V1' 'V1' 'V1' 'V2' 'V1' 'V1' 'V1' 'V2' 'V1' 'V2' 'V2' 'V1' 'V1'\n",
            " 'V2' 'V2' 'V2' 'V2' 'V2' 'V1' 'V1' 'V1' 'V1' 'V1' 'V1' 'V1' 'V2' 'V1'\n",
            " 'V2' 'V1' 'V2' 'V1' 'V1' 'V1' 'V2' 'V2' 'V1' 'V1' 'V2' 'V2' 'V1' 'V1'\n",
            " 'V1' 'V2' 'V2' 'V1' 'V1' 'V2' 'V1' 'V2' 'V1' 'V2' 'V1' 'V1' 'V1' 'V2'\n",
            " 'V1' 'V1' 'V1' 'V1' 'V2' 'V2' 'V1' 'V2' 'V1' 'V1' 'V1' 'V1' 'V2' 'V1'\n",
            " 'V1' 'V1' 'V1' 'V1' 'V2' 'V1' 'V1' 'V1' 'V2' 'V1' 'V2' 'V1' 'V2' 'V2'\n",
            " 'V2' 'V1' 'V1' 'V2' 'V2' 'V1' 'V1' 'V1' 'V2' 'V1' 'V2' 'V1' 'V1' 'V1'\n",
            " 'V1' 'V2' 'V1' 'V1' 'V1' 'V2' 'V1' 'V1' 'V2' 'V1' 'V2' 'V1' 'V1' 'V1'\n",
            " 'V1' 'V2' 'V1' 'V1' 'V2' 'V1' 'V1' 'V1' 'V1' 'V1' 'V2' 'V1' 'V1' 'V1'\n",
            " 'V1' 'V1' 'V1' 'V2' 'V1' 'V1' 'V1' 'V2' 'V1' 'V1' 'V2' 'V2' 'V1' 'V2'\n",
            " 'V1' 'V2' 'V2' 'V2' 'V1' 'V1' 'V2' 'V2' 'V1' 'V2' 'V2' 'V1' 'V2' 'V1'\n",
            " 'V1' 'V2' 'V1' 'V1' 'V2' 'V1' 'V1' 'V2' 'V2' 'V2' 'V1' 'V1' 'V1' 'V2'\n",
            " 'V1' 'V1' 'V1' 'V2' 'V1' 'V1' 'V2' 'V2' 'V2' 'V1' 'V1' 'V2' 'V2' 'V1'\n",
            " 'V1' 'V1' 'V1' 'V2' 'V1' 'V1' 'V1' 'V1' 'V2' 'V1' 'V1' 'V2' 'V1' 'V1'\n",
            " 'V1' 'V1' 'V1' 'V2' 'V2' 'V2' 'V1' 'V2' 'V1' 'V2' 'V2' 'V1' 'V1' 'V2'\n",
            " 'V1' 'V2' 'V1' 'V1' 'V1' 'V1' 'V1' 'V1' 'V1' 'V2' 'V2' 'V1' 'V1' 'V1'\n",
            " 'V2' 'V1' 'V1' 'V1' 'V1' 'V2' 'V2' 'V2' 'V2' 'V2' 'V1' 'V1' 'V1' 'V2'\n",
            " 'V1' 'V2' 'V1' 'V1' 'V2' 'V2' 'V2' 'V2' 'V1' 'V2' 'V1' 'V2' 'V1' 'V2'\n",
            " 'V1' 'V1' 'V2' 'V1' 'V1' 'V1' 'V1' 'V1' 'V1' 'V1' 'V1' 'V1' 'V1' 'V2'\n",
            " 'V1' 'V1' 'V1' 'V2' 'V2' 'V2' 'V2' 'V2' 'V1' 'V1' 'V2' 'V2' 'V2' 'V2'\n",
            " 'V2' 'V2' 'V2' 'V2' 'V2' 'V2' 'V1' 'V2' 'V2' 'V1' 'V2' 'V2' 'V2' 'V1'\n",
            " 'V2' 'V2' 'V1' 'V2' 'V1' 'V1' 'V1' 'V2' 'V2' 'V1' 'V1' 'V1' 'V2' 'V2'\n",
            " 'V1' 'V1' 'V2' 'V1' 'V2' 'V1' 'V1' 'V2' 'V1' 'V1' 'V1' 'V1' 'V1' 'V2'\n",
            " 'V2' 'V1' 'V1' 'V1' 'V1' 'V2' 'V1' 'V2' 'V1' 'V2' 'V2' 'V1']\n"
          ]
        }
      ],
      "source": [
        "y_pred=np.array(clf.predict(X_test))\n",
        "print('Predicted Values = ',end =' ')\n",
        "print(le.inverse_transform(y_pred))\n",
        "print('\\nActual Values = ',end =' ')\n",
        "print(le.inverse_transform(y_test))"
      ]
    },
    {
      "cell_type": "code",
      "execution_count": null,
      "metadata": {
        "colab": {
          "base_uri": "https://localhost:8080/"
        },
        "id": "qoB9F887MK_r",
        "outputId": "32801883-ce24-4efb-b915-d85a979539c5"
      },
      "outputs": [
        {
          "name": "stdout",
          "output_type": "stream",
          "text": [
            "The accuracy score with the model using scikit/sklearn using Gini=  98.92601431980907 %\n",
            "The precision score with the model using scikit/sklearn using Gini=  98.92601431980907 %\n"
          ]
        }
      ],
      "source": [
        "from sklearn.metrics import accuracy_score,confusion_matrix,precision_score\n",
        "print(\"The accuracy score with the model using scikit/sklearn using Gini= \",accuracy_score(y_test, y_pred)*100,\"%\")\n",
        "print(\"The precision score with the model using scikit/sklearn using Gini= \",precision_score(y_test, y_pred,average='micro')*100,\"%\")"
      ]
    },
    {
      "cell_type": "markdown",
      "metadata": {
        "id": "VDVQUy25RqDD"
      },
      "source": [
        "Graph of the DecisionTree model using Gini and Depth  = 3"
      ]
    },
    {
      "cell_type": "code",
      "execution_count": null,
      "metadata": {
        "colab": {
          "base_uri": "https://localhost:8080/",
          "height": 598
        },
        "id": "SWjjjFJENFib",
        "outputId": "575d3876-e81b-4ae1-c07c-397f95f112d3"
      },
      "outputs": [
        {
          "data": {
            "image/svg+xml": [
              "<?xml version=\"1.0\" encoding=\"UTF-8\" standalone=\"no\"?>\n",
              "<!DOCTYPE svg PUBLIC \"-//W3C//DTD SVG 1.1//EN\"\n",
              " \"http://www.w3.org/Graphics/SVG/1.1/DTD/svg11.dtd\">\n",
              "<!-- Generated by graphviz version 2.43.0 (0)\n",
              " -->\n",
              "<!-- Title: Tree Pages: 1 -->\n",
              "<svg width=\"976pt\" height=\"433pt\"\n",
              " viewBox=\"0.00 0.00 975.50 433.00\" xmlns=\"http://www.w3.org/2000/svg\" xmlns:xlink=\"http://www.w3.org/1999/xlink\">\n",
              "<g id=\"graph0\" class=\"graph\" transform=\"scale(1 1) rotate(0) translate(4 429)\">\n",
              "<title>Tree</title>\n",
              "<polygon fill=\"white\" stroke=\"transparent\" points=\"-4,4 -4,-429 971.5,-429 971.5,4 -4,4\"/>\n",
              "<!-- 0 -->\n",
              "<g id=\"node1\" class=\"node\">\n",
              "<title>0</title>\n",
              "<polygon fill=\"#f6d3ba\" stroke=\"black\" points=\"529,-425 389,-425 389,-342 529,-342 529,-425\"/>\n",
              "<text text-anchor=\"middle\" x=\"459\" y=\"-409.8\" font-family=\"Helvetica,sans-Serif\" font-size=\"14.00\">Perimeter &lt;= 0.004</text>\n",
              "<text text-anchor=\"middle\" x=\"459\" y=\"-394.8\" font-family=\"Helvetica,sans-Serif\" font-size=\"14.00\">gini = 0.478</text>\n",
              "<text text-anchor=\"middle\" x=\"459\" y=\"-379.8\" font-family=\"Helvetica,sans-Serif\" font-size=\"14.00\">samples = 3349</text>\n",
              "<text text-anchor=\"middle\" x=\"459\" y=\"-364.8\" font-family=\"Helvetica,sans-Serif\" font-size=\"14.00\">value = [2027, 1322]</text>\n",
              "<text text-anchor=\"middle\" x=\"459\" y=\"-349.8\" font-family=\"Helvetica,sans-Serif\" font-size=\"14.00\">class = V1</text>\n",
              "</g>\n",
              "<!-- 1 -->\n",
              "<g id=\"node2\" class=\"node\">\n",
              "<title>1</title>\n",
              "<polygon fill=\"#e5823b\" stroke=\"black\" points=\"424,-306 262,-306 262,-223 424,-223 424,-306\"/>\n",
              "<text text-anchor=\"middle\" x=\"343\" y=\"-290.8\" font-family=\"Helvetica,sans-Serif\" font-size=\"14.00\">Compactness &lt;= &#45;0.827</text>\n",
              "<text text-anchor=\"middle\" x=\"343\" y=\"-275.8\" font-family=\"Helvetica,sans-Serif\" font-size=\"14.00\">gini = 0.021</text>\n",
              "<text text-anchor=\"middle\" x=\"343\" y=\"-260.8\" font-family=\"Helvetica,sans-Serif\" font-size=\"14.00\">samples = 2018</text>\n",
              "<text text-anchor=\"middle\" x=\"343\" y=\"-245.8\" font-family=\"Helvetica,sans-Serif\" font-size=\"14.00\">value = [1997, 21]</text>\n",
              "<text text-anchor=\"middle\" x=\"343\" y=\"-230.8\" font-family=\"Helvetica,sans-Serif\" font-size=\"14.00\">class = V1</text>\n",
              "</g>\n",
              "<!-- 0&#45;&gt;1 -->\n",
              "<g id=\"edge1\" class=\"edge\">\n",
              "<title>0&#45;&gt;1</title>\n",
              "<path fill=\"none\" stroke=\"black\" d=\"M418.75,-341.91C409.58,-332.65 399.74,-322.73 390.3,-313.21\"/>\n",
              "<polygon fill=\"black\" stroke=\"black\" points=\"392.7,-310.66 383.17,-306.02 387.73,-315.59 392.7,-310.66\"/>\n",
              "<text text-anchor=\"middle\" x=\"383.07\" y=\"-327.32\" font-family=\"Helvetica,sans-Serif\" font-size=\"14.00\">True</text>\n",
              "</g>\n",
              "<!-- 8 -->\n",
              "<g id=\"node9\" class=\"node\">\n",
              "<title>8</title>\n",
              "<polygon fill=\"#3e9fe6\" stroke=\"black\" points=\"660.5,-306 523.5,-306 523.5,-223 660.5,-223 660.5,-306\"/>\n",
              "<text text-anchor=\"middle\" x=\"592\" y=\"-290.8\" font-family=\"Helvetica,sans-Serif\" font-size=\"14.00\">roundness &lt;= 0.134</text>\n",
              "<text text-anchor=\"middle\" x=\"592\" y=\"-275.8\" font-family=\"Helvetica,sans-Serif\" font-size=\"14.00\">gini = 0.044</text>\n",
              "<text text-anchor=\"middle\" x=\"592\" y=\"-260.8\" font-family=\"Helvetica,sans-Serif\" font-size=\"14.00\">samples = 1331</text>\n",
              "<text text-anchor=\"middle\" x=\"592\" y=\"-245.8\" font-family=\"Helvetica,sans-Serif\" font-size=\"14.00\">value = [30, 1301]</text>\n",
              "<text text-anchor=\"middle\" x=\"592\" y=\"-230.8\" font-family=\"Helvetica,sans-Serif\" font-size=\"14.00\">class = V2</text>\n",
              "</g>\n",
              "<!-- 0&#45;&gt;8 -->\n",
              "<g id=\"edge8\" class=\"edge\">\n",
              "<title>0&#45;&gt;8</title>\n",
              "<path fill=\"none\" stroke=\"black\" d=\"M505.14,-341.91C515.87,-332.47 527.38,-322.34 538.4,-312.65\"/>\n",
              "<polygon fill=\"black\" stroke=\"black\" points=\"540.74,-315.25 545.94,-306.02 536.12,-310 540.74,-315.25\"/>\n",
              "<text text-anchor=\"middle\" x=\"544.34\" y=\"-327.27\" font-family=\"Helvetica,sans-Serif\" font-size=\"14.00\">False</text>\n",
              "</g>\n",
              "<!-- 2 -->\n",
              "<g id=\"node3\" class=\"node\">\n",
              "<title>2</title>\n",
              "<polygon fill=\"#fbece1\" stroke=\"black\" points=\"226,-187 116,-187 116,-104 226,-104 226,-187\"/>\n",
              "<text text-anchor=\"middle\" x=\"171\" y=\"-171.8\" font-family=\"Helvetica,sans-Serif\" font-size=\"14.00\">Solidity &lt;= 0.23</text>\n",
              "<text text-anchor=\"middle\" x=\"171\" y=\"-156.8\" font-family=\"Helvetica,sans-Serif\" font-size=\"14.00\">gini = 0.497</text>\n",
              "<text text-anchor=\"middle\" x=\"171\" y=\"-141.8\" font-family=\"Helvetica,sans-Serif\" font-size=\"14.00\">samples = 24</text>\n",
              "<text text-anchor=\"middle\" x=\"171\" y=\"-126.8\" font-family=\"Helvetica,sans-Serif\" font-size=\"14.00\">value = [13, 11]</text>\n",
              "<text text-anchor=\"middle\" x=\"171\" y=\"-111.8\" font-family=\"Helvetica,sans-Serif\" font-size=\"14.00\">class = V1</text>\n",
              "</g>\n",
              "<!-- 1&#45;&gt;2 -->\n",
              "<g id=\"edge2\" class=\"edge\">\n",
              "<title>1&#45;&gt;2</title>\n",
              "<path fill=\"none\" stroke=\"black\" d=\"M283.33,-222.91C267.69,-212.27 250.77,-200.76 234.92,-189.98\"/>\n",
              "<polygon fill=\"black\" stroke=\"black\" points=\"236.48,-186.81 226.24,-184.08 232.54,-192.59 236.48,-186.81\"/>\n",
              "</g>\n",
              "<!-- 5 -->\n",
              "<g id=\"node6\" class=\"node\">\n",
              "<title>5</title>\n",
              "<polygon fill=\"#e5823a\" stroke=\"black\" points=\"410,-187 276,-187 276,-104 410,-104 410,-187\"/>\n",
              "<text text-anchor=\"middle\" x=\"343\" y=\"-171.8\" font-family=\"Helvetica,sans-Serif\" font-size=\"14.00\">roundness &lt;= &#45;0.08</text>\n",
              "<text text-anchor=\"middle\" x=\"343\" y=\"-156.8\" font-family=\"Helvetica,sans-Serif\" font-size=\"14.00\">gini = 0.01</text>\n",
              "<text text-anchor=\"middle\" x=\"343\" y=\"-141.8\" font-family=\"Helvetica,sans-Serif\" font-size=\"14.00\">samples = 1994</text>\n",
              "<text text-anchor=\"middle\" x=\"343\" y=\"-126.8\" font-family=\"Helvetica,sans-Serif\" font-size=\"14.00\">value = [1984, 10]</text>\n",
              "<text text-anchor=\"middle\" x=\"343\" y=\"-111.8\" font-family=\"Helvetica,sans-Serif\" font-size=\"14.00\">class = V1</text>\n",
              "</g>\n",
              "<!-- 1&#45;&gt;5 -->\n",
              "<g id=\"edge5\" class=\"edge\">\n",
              "<title>1&#45;&gt;5</title>\n",
              "<path fill=\"none\" stroke=\"black\" d=\"M343,-222.91C343,-214.65 343,-205.86 343,-197.3\"/>\n",
              "<polygon fill=\"black\" stroke=\"black\" points=\"346.5,-197.02 343,-187.02 339.5,-197.02 346.5,-197.02\"/>\n",
              "</g>\n",
              "<!-- 3 -->\n",
              "<g id=\"node4\" class=\"node\">\n",
              "<title>3</title>\n",
              "<polygon fill=\"#4ba6e7\" stroke=\"black\" points=\"102,-68 0,-68 0,0 102,0 102,-68\"/>\n",
              "<text text-anchor=\"middle\" x=\"51\" y=\"-52.8\" font-family=\"Helvetica,sans-Serif\" font-size=\"14.00\">gini = 0.153</text>\n",
              "<text text-anchor=\"middle\" x=\"51\" y=\"-37.8\" font-family=\"Helvetica,sans-Serif\" font-size=\"14.00\">samples = 12</text>\n",
              "<text text-anchor=\"middle\" x=\"51\" y=\"-22.8\" font-family=\"Helvetica,sans-Serif\" font-size=\"14.00\">value = [1, 11]</text>\n",
              "<text text-anchor=\"middle\" x=\"51\" y=\"-7.8\" font-family=\"Helvetica,sans-Serif\" font-size=\"14.00\">class = V2</text>\n",
              "</g>\n",
              "<!-- 2&#45;&gt;3 -->\n",
              "<g id=\"edge3\" class=\"edge\">\n",
              "<title>2&#45;&gt;3</title>\n",
              "<path fill=\"none\" stroke=\"black\" d=\"M126.32,-103.73C116.12,-94.42 105.29,-84.54 95.12,-75.26\"/>\n",
              "<polygon fill=\"black\" stroke=\"black\" points=\"97.24,-72.45 87.49,-68.3 92.52,-77.63 97.24,-72.45\"/>\n",
              "</g>\n",
              "<!-- 4 -->\n",
              "<g id=\"node5\" class=\"node\">\n",
              "<title>4</title>\n",
              "<polygon fill=\"#e58139\" stroke=\"black\" points=\"222,-68 120,-68 120,0 222,0 222,-68\"/>\n",
              "<text text-anchor=\"middle\" x=\"171\" y=\"-52.8\" font-family=\"Helvetica,sans-Serif\" font-size=\"14.00\">gini = 0.0</text>\n",
              "<text text-anchor=\"middle\" x=\"171\" y=\"-37.8\" font-family=\"Helvetica,sans-Serif\" font-size=\"14.00\">samples = 12</text>\n",
              "<text text-anchor=\"middle\" x=\"171\" y=\"-22.8\" font-family=\"Helvetica,sans-Serif\" font-size=\"14.00\">value = [12, 0]</text>\n",
              "<text text-anchor=\"middle\" x=\"171\" y=\"-7.8\" font-family=\"Helvetica,sans-Serif\" font-size=\"14.00\">class = V1</text>\n",
              "</g>\n",
              "<!-- 2&#45;&gt;4 -->\n",
              "<g id=\"edge4\" class=\"edge\">\n",
              "<title>2&#45;&gt;4</title>\n",
              "<path fill=\"none\" stroke=\"black\" d=\"M171,-103.73C171,-95.52 171,-86.86 171,-78.56\"/>\n",
              "<polygon fill=\"black\" stroke=\"black\" points=\"174.5,-78.3 171,-68.3 167.5,-78.3 174.5,-78.3\"/>\n",
              "</g>\n",
              "<!-- 6 -->\n",
              "<g id=\"node7\" class=\"node\">\n",
              "<title>6</title>\n",
              "<polygon fill=\"#e99254\" stroke=\"black\" points=\"342,-68 240,-68 240,0 342,0 342,-68\"/>\n",
              "<text text-anchor=\"middle\" x=\"291\" y=\"-52.8\" font-family=\"Helvetica,sans-Serif\" font-size=\"14.00\">gini = 0.212</text>\n",
              "<text text-anchor=\"middle\" x=\"291\" y=\"-37.8\" font-family=\"Helvetica,sans-Serif\" font-size=\"14.00\">samples = 58</text>\n",
              "<text text-anchor=\"middle\" x=\"291\" y=\"-22.8\" font-family=\"Helvetica,sans-Serif\" font-size=\"14.00\">value = [51, 7]</text>\n",
              "<text text-anchor=\"middle\" x=\"291\" y=\"-7.8\" font-family=\"Helvetica,sans-Serif\" font-size=\"14.00\">class = V1</text>\n",
              "</g>\n",
              "<!-- 5&#45;&gt;6 -->\n",
              "<g id=\"edge6\" class=\"edge\">\n",
              "<title>5&#45;&gt;6</title>\n",
              "<path fill=\"none\" stroke=\"black\" d=\"M323.64,-103.73C319.57,-95.15 315.26,-86.09 311.16,-77.46\"/>\n",
              "<polygon fill=\"black\" stroke=\"black\" points=\"314.26,-75.83 306.81,-68.3 307.94,-78.83 314.26,-75.83\"/>\n",
              "</g>\n",
              "<!-- 7 -->\n",
              "<g id=\"node8\" class=\"node\">\n",
              "<title>7</title>\n",
              "<polygon fill=\"#e58139\" stroke=\"black\" points=\"477.5,-68 360.5,-68 360.5,0 477.5,0 477.5,-68\"/>\n",
              "<text text-anchor=\"middle\" x=\"419\" y=\"-52.8\" font-family=\"Helvetica,sans-Serif\" font-size=\"14.00\">gini = 0.003</text>\n",
              "<text text-anchor=\"middle\" x=\"419\" y=\"-37.8\" font-family=\"Helvetica,sans-Serif\" font-size=\"14.00\">samples = 1936</text>\n",
              "<text text-anchor=\"middle\" x=\"419\" y=\"-22.8\" font-family=\"Helvetica,sans-Serif\" font-size=\"14.00\">value = [1933, 3]</text>\n",
              "<text text-anchor=\"middle\" x=\"419\" y=\"-7.8\" font-family=\"Helvetica,sans-Serif\" font-size=\"14.00\">class = V1</text>\n",
              "</g>\n",
              "<!-- 5&#45;&gt;7 -->\n",
              "<g id=\"edge7\" class=\"edge\">\n",
              "<title>5&#45;&gt;7</title>\n",
              "<path fill=\"none\" stroke=\"black\" d=\"M371.3,-103.73C377.44,-94.88 383.94,-85.51 390.11,-76.63\"/>\n",
              "<polygon fill=\"black\" stroke=\"black\" points=\"393.06,-78.51 395.89,-68.3 387.31,-74.52 393.06,-78.51\"/>\n",
              "</g>\n",
              "<!-- 9 -->\n",
              "<g id=\"node10\" class=\"node\">\n",
              "<title>9</title>\n",
              "<polygon fill=\"#3c9ee5\" stroke=\"black\" points=\"668.5,-187 515.5,-187 515.5,-104 668.5,-104 668.5,-187\"/>\n",
              "<text text-anchor=\"middle\" x=\"592\" y=\"-171.8\" font-family=\"Helvetica,sans-Serif\" font-size=\"14.00\">ConvexArea &lt;= &#45;0.302</text>\n",
              "<text text-anchor=\"middle\" x=\"592\" y=\"-156.8\" font-family=\"Helvetica,sans-Serif\" font-size=\"14.00\">gini = 0.026</text>\n",
              "<text text-anchor=\"middle\" x=\"592\" y=\"-141.8\" font-family=\"Helvetica,sans-Serif\" font-size=\"14.00\">samples = 1315</text>\n",
              "<text text-anchor=\"middle\" x=\"592\" y=\"-126.8\" font-family=\"Helvetica,sans-Serif\" font-size=\"14.00\">value = [17, 1298]</text>\n",
              "<text text-anchor=\"middle\" x=\"592\" y=\"-111.8\" font-family=\"Helvetica,sans-Serif\" font-size=\"14.00\">class = V2</text>\n",
              "</g>\n",
              "<!-- 8&#45;&gt;9 -->\n",
              "<g id=\"edge9\" class=\"edge\">\n",
              "<title>8&#45;&gt;9</title>\n",
              "<path fill=\"none\" stroke=\"black\" d=\"M592,-222.91C592,-214.65 592,-205.86 592,-197.3\"/>\n",
              "<polygon fill=\"black\" stroke=\"black\" points=\"595.5,-197.02 592,-187.02 588.5,-197.02 595.5,-197.02\"/>\n",
              "</g>\n",
              "<!-- 12 -->\n",
              "<g id=\"node13\" class=\"node\">\n",
              "<title>12</title>\n",
              "<polygon fill=\"#eb9e67\" stroke=\"black\" points=\"870,-187 736,-187 736,-104 870,-104 870,-187\"/>\n",
              "<text text-anchor=\"middle\" x=\"803\" y=\"-171.8\" font-family=\"Helvetica,sans-Serif\" font-size=\"14.00\">Perimeter &lt;= 0.368</text>\n",
              "<text text-anchor=\"middle\" x=\"803\" y=\"-156.8\" font-family=\"Helvetica,sans-Serif\" font-size=\"14.00\">gini = 0.305</text>\n",
              "<text text-anchor=\"middle\" x=\"803\" y=\"-141.8\" font-family=\"Helvetica,sans-Serif\" font-size=\"14.00\">samples = 16</text>\n",
              "<text text-anchor=\"middle\" x=\"803\" y=\"-126.8\" font-family=\"Helvetica,sans-Serif\" font-size=\"14.00\">value = [13, 3]</text>\n",
              "<text text-anchor=\"middle\" x=\"803\" y=\"-111.8\" font-family=\"Helvetica,sans-Serif\" font-size=\"14.00\">class = V1</text>\n",
              "</g>\n",
              "<!-- 8&#45;&gt;12 -->\n",
              "<g id=\"edge12\" class=\"edge\">\n",
              "<title>8&#45;&gt;12</title>\n",
              "<path fill=\"none\" stroke=\"black\" d=\"M660.51,-225.51C681.76,-213.73 705.32,-200.67 727.05,-188.61\"/>\n",
              "<polygon fill=\"black\" stroke=\"black\" points=\"728.87,-191.61 735.92,-183.7 725.47,-185.49 728.87,-191.61\"/>\n",
              "</g>\n",
              "<!-- 10 -->\n",
              "<g id=\"node11\" class=\"node\">\n",
              "<title>10</title>\n",
              "<polygon fill=\"#ea9a61\" stroke=\"black\" points=\"590.5,-68 495.5,-68 495.5,0 590.5,0 590.5,-68\"/>\n",
              "<text text-anchor=\"middle\" x=\"543\" y=\"-52.8\" font-family=\"Helvetica,sans-Serif\" font-size=\"14.00\">gini = 0.278</text>\n",
              "<text text-anchor=\"middle\" x=\"543\" y=\"-37.8\" font-family=\"Helvetica,sans-Serif\" font-size=\"14.00\">samples = 6</text>\n",
              "<text text-anchor=\"middle\" x=\"543\" y=\"-22.8\" font-family=\"Helvetica,sans-Serif\" font-size=\"14.00\">value = [5, 1]</text>\n",
              "<text text-anchor=\"middle\" x=\"543\" y=\"-7.8\" font-family=\"Helvetica,sans-Serif\" font-size=\"14.00\">class = V1</text>\n",
              "</g>\n",
              "<!-- 9&#45;&gt;10 -->\n",
              "<g id=\"edge10\" class=\"edge\">\n",
              "<title>9&#45;&gt;10</title>\n",
              "<path fill=\"none\" stroke=\"black\" d=\"M573.75,-103.73C569.92,-95.15 565.86,-86.09 562,-77.46\"/>\n",
              "<polygon fill=\"black\" stroke=\"black\" points=\"565.18,-76 557.9,-68.3 558.79,-78.86 565.18,-76\"/>\n",
              "</g>\n",
              "<!-- 11 -->\n",
              "<g id=\"node12\" class=\"node\">\n",
              "<title>11</title>\n",
              "<polygon fill=\"#3b9ee5\" stroke=\"black\" points=\"733.5,-68 608.5,-68 608.5,0 733.5,0 733.5,-68\"/>\n",
              "<text text-anchor=\"middle\" x=\"671\" y=\"-52.8\" font-family=\"Helvetica,sans-Serif\" font-size=\"14.00\">gini = 0.018</text>\n",
              "<text text-anchor=\"middle\" x=\"671\" y=\"-37.8\" font-family=\"Helvetica,sans-Serif\" font-size=\"14.00\">samples = 1309</text>\n",
              "<text text-anchor=\"middle\" x=\"671\" y=\"-22.8\" font-family=\"Helvetica,sans-Serif\" font-size=\"14.00\">value = [12, 1297]</text>\n",
              "<text text-anchor=\"middle\" x=\"671\" y=\"-7.8\" font-family=\"Helvetica,sans-Serif\" font-size=\"14.00\">class = V2</text>\n",
              "</g>\n",
              "<!-- 9&#45;&gt;11 -->\n",
              "<g id=\"edge11\" class=\"edge\">\n",
              "<title>9&#45;&gt;11</title>\n",
              "<path fill=\"none\" stroke=\"black\" d=\"M621.42,-103.73C627.8,-94.88 634.56,-85.51 640.97,-76.63\"/>\n",
              "<polygon fill=\"black\" stroke=\"black\" points=\"643.96,-78.46 646.98,-68.3 638.29,-74.36 643.96,-78.46\"/>\n",
              "</g>\n",
              "<!-- 13 -->\n",
              "<g id=\"node14\" class=\"node\">\n",
              "<title>13</title>\n",
              "<polygon fill=\"#e58139\" stroke=\"black\" points=\"854,-68 752,-68 752,0 854,0 854,-68\"/>\n",
              "<text text-anchor=\"middle\" x=\"803\" y=\"-52.8\" font-family=\"Helvetica,sans-Serif\" font-size=\"14.00\">gini = 0.0</text>\n",
              "<text text-anchor=\"middle\" x=\"803\" y=\"-37.8\" font-family=\"Helvetica,sans-Serif\" font-size=\"14.00\">samples = 13</text>\n",
              "<text text-anchor=\"middle\" x=\"803\" y=\"-22.8\" font-family=\"Helvetica,sans-Serif\" font-size=\"14.00\">value = [13, 0]</text>\n",
              "<text text-anchor=\"middle\" x=\"803\" y=\"-7.8\" font-family=\"Helvetica,sans-Serif\" font-size=\"14.00\">class = V1</text>\n",
              "</g>\n",
              "<!-- 12&#45;&gt;13 -->\n",
              "<g id=\"edge13\" class=\"edge\">\n",
              "<title>12&#45;&gt;13</title>\n",
              "<path fill=\"none\" stroke=\"black\" d=\"M803,-103.73C803,-95.52 803,-86.86 803,-78.56\"/>\n",
              "<polygon fill=\"black\" stroke=\"black\" points=\"806.5,-78.3 803,-68.3 799.5,-78.3 806.5,-78.3\"/>\n",
              "</g>\n",
              "<!-- 14 -->\n",
              "<g id=\"node15\" class=\"node\">\n",
              "<title>14</title>\n",
              "<polygon fill=\"#399de5\" stroke=\"black\" points=\"967.5,-68 872.5,-68 872.5,0 967.5,0 967.5,-68\"/>\n",
              "<text text-anchor=\"middle\" x=\"920\" y=\"-52.8\" font-family=\"Helvetica,sans-Serif\" font-size=\"14.00\">gini = 0.0</text>\n",
              "<text text-anchor=\"middle\" x=\"920\" y=\"-37.8\" font-family=\"Helvetica,sans-Serif\" font-size=\"14.00\">samples = 3</text>\n",
              "<text text-anchor=\"middle\" x=\"920\" y=\"-22.8\" font-family=\"Helvetica,sans-Serif\" font-size=\"14.00\">value = [0, 3]</text>\n",
              "<text text-anchor=\"middle\" x=\"920\" y=\"-7.8\" font-family=\"Helvetica,sans-Serif\" font-size=\"14.00\">class = V2</text>\n",
              "</g>\n",
              "<!-- 12&#45;&gt;14 -->\n",
              "<g id=\"edge14\" class=\"edge\">\n",
              "<title>12&#45;&gt;14</title>\n",
              "<path fill=\"none\" stroke=\"black\" d=\"M846.57,-103.73C856.51,-94.42 867.06,-84.54 876.98,-75.26\"/>\n",
              "<polygon fill=\"black\" stroke=\"black\" points=\"879.51,-77.69 884.42,-68.3 874.73,-72.58 879.51,-77.69\"/>\n",
              "</g>\n",
              "</g>\n",
              "</svg>\n"
            ],
            "text/plain": [
              "<graphviz.sources.Source at 0x7cbc1be01de0>"
            ]
          },
          "execution_count": 23,
          "metadata": {},
          "output_type": "execute_result"
        }
      ],
      "source": [
        "clf.fit(X, y)\n",
        "from sklearn import tree\n",
        "import graphviz\n",
        "\n",
        "features = ['Area','Perimeter','ConvexArea','EquivDiameter','Extent','Solidity','roundness','Compactness']\n",
        "cn = ['V1','V2']\n",
        "dot_data = tree.export_graphviz(clf, feature_names=features,class_names=cn, filled=True)\n",
        "graph = graphviz.Source(dot_data)\n",
        "graph.format = 'svg'\n",
        "graph.render('decision_tree')\n",
        "\n",
        "graph"
      ]
    },
    {
      "cell_type": "markdown",
      "metadata": {
        "id": "ZaAKgTXMQEtb"
      },
      "source": [
        "(ii)Using entropy index"
      ]
    },
    {
      "cell_type": "markdown",
      "metadata": {
        "id": "lX0eYPCpRazD"
      },
      "source": [
        "Creating and Fitting Our Model"
      ]
    },
    {
      "cell_type": "code",
      "execution_count": null,
      "metadata": {
        "colab": {
          "base_uri": "https://localhost:8080/",
          "height": 75
        },
        "id": "aV1OEmUtMnaT",
        "outputId": "5364b160-106b-4a29-998b-52f04fc851c3"
      },
      "outputs": [
        {
          "data": {
            "text/html": [
              "<style>#sk-container-id-2 {color: black;background-color: white;}#sk-container-id-2 pre{padding: 0;}#sk-container-id-2 div.sk-toggleable {background-color: white;}#sk-container-id-2 label.sk-toggleable__label {cursor: pointer;display: block;width: 100%;margin-bottom: 0;padding: 0.3em;box-sizing: border-box;text-align: center;}#sk-container-id-2 label.sk-toggleable__label-arrow:before {content: \"▸\";float: left;margin-right: 0.25em;color: #696969;}#sk-container-id-2 label.sk-toggleable__label-arrow:hover:before {color: black;}#sk-container-id-2 div.sk-estimator:hover label.sk-toggleable__label-arrow:before {color: black;}#sk-container-id-2 div.sk-toggleable__content {max-height: 0;max-width: 0;overflow: hidden;text-align: left;background-color: #f0f8ff;}#sk-container-id-2 div.sk-toggleable__content pre {margin: 0.2em;color: black;border-radius: 0.25em;background-color: #f0f8ff;}#sk-container-id-2 input.sk-toggleable__control:checked~div.sk-toggleable__content {max-height: 200px;max-width: 100%;overflow: auto;}#sk-container-id-2 input.sk-toggleable__control:checked~label.sk-toggleable__label-arrow:before {content: \"▾\";}#sk-container-id-2 div.sk-estimator input.sk-toggleable__control:checked~label.sk-toggleable__label {background-color: #d4ebff;}#sk-container-id-2 div.sk-label input.sk-toggleable__control:checked~label.sk-toggleable__label {background-color: #d4ebff;}#sk-container-id-2 input.sk-hidden--visually {border: 0;clip: rect(1px 1px 1px 1px);clip: rect(1px, 1px, 1px, 1px);height: 1px;margin: -1px;overflow: hidden;padding: 0;position: absolute;width: 1px;}#sk-container-id-2 div.sk-estimator {font-family: monospace;background-color: #f0f8ff;border: 1px dotted black;border-radius: 0.25em;box-sizing: border-box;margin-bottom: 0.5em;}#sk-container-id-2 div.sk-estimator:hover {background-color: #d4ebff;}#sk-container-id-2 div.sk-parallel-item::after {content: \"\";width: 100%;border-bottom: 1px solid gray;flex-grow: 1;}#sk-container-id-2 div.sk-label:hover label.sk-toggleable__label {background-color: #d4ebff;}#sk-container-id-2 div.sk-serial::before {content: \"\";position: absolute;border-left: 1px solid gray;box-sizing: border-box;top: 0;bottom: 0;left: 50%;z-index: 0;}#sk-container-id-2 div.sk-serial {display: flex;flex-direction: column;align-items: center;background-color: white;padding-right: 0.2em;padding-left: 0.2em;position: relative;}#sk-container-id-2 div.sk-item {position: relative;z-index: 1;}#sk-container-id-2 div.sk-parallel {display: flex;align-items: stretch;justify-content: center;background-color: white;position: relative;}#sk-container-id-2 div.sk-item::before, #sk-container-id-2 div.sk-parallel-item::before {content: \"\";position: absolute;border-left: 1px solid gray;box-sizing: border-box;top: 0;bottom: 0;left: 50%;z-index: -1;}#sk-container-id-2 div.sk-parallel-item {display: flex;flex-direction: column;z-index: 1;position: relative;background-color: white;}#sk-container-id-2 div.sk-parallel-item:first-child::after {align-self: flex-end;width: 50%;}#sk-container-id-2 div.sk-parallel-item:last-child::after {align-self: flex-start;width: 50%;}#sk-container-id-2 div.sk-parallel-item:only-child::after {width: 0;}#sk-container-id-2 div.sk-dashed-wrapped {border: 1px dashed gray;margin: 0 0.4em 0.5em 0.4em;box-sizing: border-box;padding-bottom: 0.4em;background-color: white;}#sk-container-id-2 div.sk-label label {font-family: monospace;font-weight: bold;display: inline-block;line-height: 1.2em;}#sk-container-id-2 div.sk-label-container {text-align: center;}#sk-container-id-2 div.sk-container {/* jupyter's `normalize.less` sets `[hidden] { display: none; }` but bootstrap.min.css set `[hidden] { display: none !important; }` so we also need the `!important` here to be able to override the default hidden behavior on the sphinx rendered scikit-learn.org. See: https://github.com/scikit-learn/scikit-learn/issues/21755 */display: inline-block !important;position: relative;}#sk-container-id-2 div.sk-text-repr-fallback {display: none;}</style><div id=\"sk-container-id-2\" class=\"sk-top-container\"><div class=\"sk-text-repr-fallback\"><pre>DecisionTreeClassifier(criterion=&#x27;entropy&#x27;, max_depth=3)</pre><b>In a Jupyter environment, please rerun this cell to show the HTML representation or trust the notebook. <br />On GitHub, the HTML representation is unable to render, please try loading this page with nbviewer.org.</b></div><div class=\"sk-container\" hidden><div class=\"sk-item\"><div class=\"sk-estimator sk-toggleable\"><input class=\"sk-toggleable__control sk-hidden--visually\" id=\"sk-estimator-id-2\" type=\"checkbox\" checked><label for=\"sk-estimator-id-2\" class=\"sk-toggleable__label sk-toggleable__label-arrow\">DecisionTreeClassifier</label><div class=\"sk-toggleable__content\"><pre>DecisionTreeClassifier(criterion=&#x27;entropy&#x27;, max_depth=3)</pre></div></div></div></div></div>"
            ],
            "text/plain": [
              "DecisionTreeClassifier(criterion='entropy', max_depth=3)"
            ]
          },
          "execution_count": 24,
          "metadata": {},
          "output_type": "execute_result"
        }
      ],
      "source": [
        "from sklearn.tree import DecisionTreeClassifier\n",
        "clf = DecisionTreeClassifier(max_depth=3,criterion='entropy')\n",
        "clf.fit(X_train, y_train)"
      ]
    },
    {
      "cell_type": "markdown",
      "metadata": {
        "id": "pR3PQYufRcI7"
      },
      "source": [
        "Predicted And Actual Testing Target Values"
      ]
    },
    {
      "cell_type": "code",
      "execution_count": null,
      "metadata": {
        "colab": {
          "base_uri": "https://localhost:8080/"
        },
        "id": "UvbtwPFuMp7K",
        "outputId": "7712104e-638b-49c7-84af-9bf15b4d6e5c"
      },
      "outputs": [
        {
          "name": "stdout",
          "output_type": "stream",
          "text": [
            "Predicted Values =  ['V1' 'V2' 'V1' 'V1' 'V2' 'V1' 'V2' 'V2' 'V1' 'V1' 'V2' 'V2' 'V2' 'V2'\n",
            " 'V2' 'V1' 'V1' 'V1' 'V2' 'V1' 'V1' 'V1' 'V2' 'V1' 'V1' 'V1' 'V2' 'V1'\n",
            " 'V1' 'V1' 'V2' 'V2' 'V1' 'V1' 'V1' 'V1' 'V1' 'V2' 'V1' 'V1' 'V1' 'V1'\n",
            " 'V2' 'V1' 'V1' 'V1' 'V2' 'V2' 'V1' 'V1' 'V1' 'V2' 'V1' 'V2' 'V1' 'V1'\n",
            " 'V1' 'V1' 'V1' 'V1' 'V2' 'V1' 'V1' 'V1' 'V1' 'V1' 'V1' 'V2' 'V1' 'V1'\n",
            " 'V2' 'V1' 'V2' 'V1' 'V1' 'V2' 'V1' 'V1' 'V2' 'V1' 'V2' 'V2' 'V1' 'V2'\n",
            " 'V2' 'V1' 'V1' 'V2' 'V2' 'V1' 'V2' 'V1' 'V2' 'V1' 'V1' 'V1' 'V1' 'V2'\n",
            " 'V2' 'V1' 'V1' 'V2' 'V2' 'V1' 'V2' 'V2' 'V2' 'V1' 'V2' 'V1' 'V1' 'V1'\n",
            " 'V1' 'V2' 'V2' 'V1' 'V1' 'V2' 'V2' 'V1' 'V1' 'V2' 'V2' 'V2' 'V1' 'V2'\n",
            " 'V1' 'V1' 'V1' 'V1' 'V2' 'V1' 'V1' 'V1' 'V1' 'V1' 'V1' 'V1' 'V2' 'V1'\n",
            " 'V2' 'V2' 'V1' 'V1' 'V1' 'V2' 'V1' 'V1' 'V2' 'V1' 'V2' 'V1' 'V2' 'V2'\n",
            " 'V1' 'V2' 'V1' 'V1' 'V1' 'V2' 'V1' 'V1' 'V1' 'V2' 'V1' 'V1' 'V1' 'V1'\n",
            " 'V2' 'V1' 'V2' 'V2' 'V2' 'V1' 'V2' 'V1' 'V2' 'V1' 'V2' 'V1' 'V2' 'V1'\n",
            " 'V1' 'V1' 'V2' 'V1' 'V1' 'V1' 'V1' 'V1' 'V1' 'V1' 'V2' 'V2' 'V1' 'V1'\n",
            " 'V1' 'V2' 'V1' 'V1' 'V1' 'V2' 'V1' 'V2' 'V1' 'V1' 'V2' 'V1' 'V1' 'V2'\n",
            " 'V1' 'V2' 'V1' 'V1' 'V1' 'V1' 'V1' 'V1' 'V1' 'V1' 'V2' 'V1' 'V1' 'V2'\n",
            " 'V2' 'V2' 'V1' 'V1' 'V1' 'V1' 'V1' 'V2' 'V1' 'V2' 'V2' 'V1' 'V1' 'V1'\n",
            " 'V2' 'V2' 'V1' 'V1' 'V1' 'V1' 'V1' 'V2' 'V1' 'V1' 'V2' 'V1' 'V1' 'V2'\n",
            " 'V2' 'V2' 'V1' 'V1' 'V1' 'V2' 'V1' 'V1' 'V1' 'V1' 'V2' 'V1' 'V1' 'V1'\n",
            " 'V2' 'V2' 'V1' 'V1' 'V2' 'V1' 'V1' 'V1' 'V1' 'V2' 'V1' 'V1' 'V1' 'V1'\n",
            " 'V1' 'V1' 'V1' 'V1' 'V1' 'V1' 'V1' 'V1' 'V1' 'V2' 'V1' 'V1' 'V1' 'V1'\n",
            " 'V1' 'V1' 'V2' 'V2' 'V1' 'V2' 'V1' 'V1' 'V1' 'V1' 'V2' 'V1' 'V1' 'V1'\n",
            " 'V1' 'V1' 'V1' 'V1' 'V1' 'V2' 'V1' 'V2' 'V1' 'V1' 'V1' 'V1' 'V2' 'V1'\n",
            " 'V1' 'V1' 'V1' 'V2' 'V2' 'V1' 'V2' 'V1' 'V1' 'V2' 'V1' 'V1' 'V1' 'V1'\n",
            " 'V2' 'V1' 'V2' 'V2' 'V1' 'V1' 'V1' 'V1' 'V2' 'V2' 'V1' 'V2' 'V2' 'V2'\n",
            " 'V2' 'V1' 'V1' 'V2' 'V1' 'V1' 'V1' 'V2' 'V2' 'V1' 'V2' 'V1' 'V1' 'V1'\n",
            " 'V1' 'V1' 'V1' 'V1' 'V1' 'V2' 'V1' 'V1' 'V1' 'V2' 'V2' 'V2' 'V1' 'V1'\n",
            " 'V2' 'V1' 'V1' 'V1' 'V1' 'V2' 'V2' 'V1' 'V1' 'V1' 'V1' 'V2' 'V2' 'V1'\n",
            " 'V2' 'V1' 'V1' 'V1' 'V2' 'V1' 'V2' 'V1' 'V1' 'V1' 'V1' 'V1' 'V1' 'V1'\n",
            " 'V2' 'V2' 'V2' 'V1' 'V1' 'V2' 'V1' 'V2' 'V1' 'V1' 'V1' 'V1' 'V2' 'V1'\n",
            " 'V1' 'V1' 'V2' 'V2' 'V2' 'V2' 'V2' 'V1' 'V2' 'V1' 'V1' 'V2' 'V2' 'V1'\n",
            " 'V2' 'V1' 'V2' 'V2' 'V1' 'V2' 'V2' 'V2' 'V1' 'V1' 'V1' 'V1' 'V2' 'V1'\n",
            " 'V1' 'V1' 'V1' 'V1' 'V1' 'V1' 'V1' 'V2' 'V1' 'V1' 'V1' 'V2' 'V2' 'V1'\n",
            " 'V2' 'V1' 'V2' 'V1' 'V2' 'V2' 'V2' 'V1' 'V2' 'V2' 'V1' 'V1' 'V1' 'V2'\n",
            " 'V1' 'V1' 'V1' 'V2' 'V2' 'V1' 'V2' 'V1' 'V2' 'V1' 'V2' 'V1' 'V2' 'V2'\n",
            " 'V1' 'V1' 'V1' 'V2' 'V1' 'V2' 'V2' 'V1' 'V1' 'V1' 'V1' 'V1' 'V2' 'V2'\n",
            " 'V1' 'V1' 'V1' 'V1' 'V2' 'V2' 'V1' 'V1' 'V2' 'V1' 'V2' 'V2' 'V1' 'V1'\n",
            " 'V2' 'V2' 'V2' 'V2' 'V2' 'V1' 'V1' 'V1' 'V1' 'V1' 'V1' 'V2' 'V2' 'V1'\n",
            " 'V2' 'V1' 'V2' 'V1' 'V1' 'V1' 'V2' 'V2' 'V1' 'V1' 'V2' 'V2' 'V1' 'V1'\n",
            " 'V1' 'V2' 'V2' 'V1' 'V1' 'V2' 'V1' 'V2' 'V1' 'V2' 'V1' 'V1' 'V1' 'V2'\n",
            " 'V1' 'V1' 'V1' 'V1' 'V2' 'V2' 'V1' 'V2' 'V1' 'V1' 'V1' 'V1' 'V2' 'V2'\n",
            " 'V1' 'V1' 'V1' 'V1' 'V2' 'V1' 'V1' 'V1' 'V2' 'V1' 'V2' 'V1' 'V2' 'V2'\n",
            " 'V2' 'V1' 'V1' 'V2' 'V2' 'V1' 'V1' 'V1' 'V2' 'V1' 'V2' 'V1' 'V1' 'V1'\n",
            " 'V1' 'V2' 'V1' 'V1' 'V1' 'V2' 'V1' 'V1' 'V2' 'V1' 'V2' 'V1' 'V1' 'V1'\n",
            " 'V1' 'V2' 'V1' 'V1' 'V2' 'V1' 'V1' 'V1' 'V1' 'V1' 'V2' 'V1' 'V1' 'V1'\n",
            " 'V1' 'V2' 'V1' 'V2' 'V1' 'V1' 'V1' 'V2' 'V1' 'V1' 'V2' 'V2' 'V1' 'V2'\n",
            " 'V1' 'V2' 'V2' 'V2' 'V1' 'V1' 'V2' 'V2' 'V1' 'V2' 'V2' 'V1' 'V2' 'V1'\n",
            " 'V1' 'V2' 'V1' 'V1' 'V2' 'V1' 'V1' 'V2' 'V2' 'V2' 'V1' 'V1' 'V1' 'V2'\n",
            " 'V1' 'V1' 'V1' 'V2' 'V1' 'V1' 'V2' 'V2' 'V2' 'V1' 'V1' 'V2' 'V2' 'V1'\n",
            " 'V1' 'V1' 'V1' 'V2' 'V1' 'V1' 'V1' 'V2' 'V2' 'V1' 'V1' 'V2' 'V1' 'V1'\n",
            " 'V1' 'V1' 'V1' 'V2' 'V2' 'V2' 'V1' 'V2' 'V1' 'V2' 'V2' 'V2' 'V1' 'V2'\n",
            " 'V1' 'V2' 'V1' 'V1' 'V1' 'V1' 'V1' 'V1' 'V1' 'V2' 'V2' 'V1' 'V1' 'V1'\n",
            " 'V2' 'V1' 'V1' 'V1' 'V1' 'V2' 'V2' 'V2' 'V2' 'V2' 'V1' 'V2' 'V1' 'V2'\n",
            " 'V1' 'V2' 'V1' 'V1' 'V2' 'V2' 'V2' 'V2' 'V1' 'V2' 'V1' 'V2' 'V1' 'V1'\n",
            " 'V1' 'V1' 'V2' 'V1' 'V1' 'V1' 'V1' 'V1' 'V1' 'V1' 'V1' 'V1' 'V1' 'V2'\n",
            " 'V1' 'V1' 'V1' 'V2' 'V2' 'V2' 'V2' 'V2' 'V1' 'V1' 'V2' 'V2' 'V2' 'V2'\n",
            " 'V2' 'V2' 'V2' 'V2' 'V2' 'V2' 'V1' 'V2' 'V2' 'V1' 'V2' 'V1' 'V2' 'V1'\n",
            " 'V2' 'V2' 'V1' 'V2' 'V1' 'V1' 'V1' 'V2' 'V2' 'V1' 'V1' 'V1' 'V2' 'V2'\n",
            " 'V1' 'V1' 'V2' 'V1' 'V2' 'V1' 'V1' 'V1' 'V1' 'V1' 'V1' 'V1' 'V1' 'V2'\n",
            " 'V2' 'V1' 'V1' 'V1' 'V1' 'V2' 'V1' 'V2' 'V1' 'V2' 'V2' 'V1']\n",
            "\n",
            "Actual Values =  ['V1' 'V2' 'V1' 'V1' 'V2' 'V1' 'V2' 'V2' 'V1' 'V1' 'V2' 'V2' 'V2' 'V2'\n",
            " 'V2' 'V1' 'V1' 'V1' 'V2' 'V1' 'V1' 'V1' 'V2' 'V1' 'V1' 'V1' 'V2' 'V1'\n",
            " 'V1' 'V1' 'V2' 'V2' 'V1' 'V1' 'V1' 'V1' 'V1' 'V2' 'V1' 'V1' 'V1' 'V1'\n",
            " 'V1' 'V1' 'V1' 'V1' 'V2' 'V2' 'V1' 'V1' 'V1' 'V2' 'V1' 'V2' 'V1' 'V1'\n",
            " 'V1' 'V1' 'V1' 'V1' 'V2' 'V1' 'V1' 'V1' 'V1' 'V1' 'V1' 'V2' 'V1' 'V1'\n",
            " 'V2' 'V1' 'V2' 'V1' 'V1' 'V2' 'V1' 'V1' 'V2' 'V1' 'V2' 'V2' 'V1' 'V2'\n",
            " 'V2' 'V1' 'V1' 'V2' 'V2' 'V1' 'V2' 'V1' 'V2' 'V1' 'V1' 'V1' 'V1' 'V2'\n",
            " 'V2' 'V1' 'V1' 'V2' 'V2' 'V1' 'V2' 'V2' 'V2' 'V1' 'V2' 'V1' 'V1' 'V1'\n",
            " 'V1' 'V2' 'V2' 'V1' 'V1' 'V2' 'V2' 'V1' 'V1' 'V2' 'V2' 'V2' 'V1' 'V2'\n",
            " 'V1' 'V1' 'V1' 'V1' 'V2' 'V1' 'V1' 'V1' 'V1' 'V1' 'V1' 'V1' 'V2' 'V1'\n",
            " 'V2' 'V2' 'V1' 'V1' 'V1' 'V2' 'V1' 'V1' 'V2' 'V1' 'V2' 'V1' 'V2' 'V2'\n",
            " 'V1' 'V2' 'V1' 'V1' 'V1' 'V2' 'V1' 'V1' 'V1' 'V2' 'V1' 'V1' 'V1' 'V1'\n",
            " 'V2' 'V1' 'V2' 'V2' 'V2' 'V1' 'V2' 'V1' 'V2' 'V1' 'V2' 'V1' 'V2' 'V1'\n",
            " 'V1' 'V1' 'V2' 'V1' 'V1' 'V1' 'V1' 'V1' 'V1' 'V1' 'V2' 'V2' 'V1' 'V1'\n",
            " 'V1' 'V2' 'V1' 'V1' 'V1' 'V2' 'V1' 'V2' 'V1' 'V1' 'V2' 'V1' 'V1' 'V2'\n",
            " 'V1' 'V2' 'V1' 'V1' 'V1' 'V1' 'V1' 'V1' 'V1' 'V1' 'V2' 'V1' 'V1' 'V2'\n",
            " 'V2' 'V2' 'V1' 'V1' 'V1' 'V1' 'V1' 'V2' 'V1' 'V2' 'V2' 'V1' 'V1' 'V1'\n",
            " 'V2' 'V2' 'V1' 'V1' 'V1' 'V1' 'V1' 'V2' 'V1' 'V1' 'V2' 'V1' 'V1' 'V2'\n",
            " 'V2' 'V2' 'V1' 'V1' 'V1' 'V2' 'V1' 'V1' 'V1' 'V1' 'V2' 'V1' 'V1' 'V1'\n",
            " 'V2' 'V2' 'V1' 'V1' 'V2' 'V1' 'V1' 'V1' 'V1' 'V2' 'V1' 'V1' 'V1' 'V1'\n",
            " 'V1' 'V1' 'V1' 'V1' 'V1' 'V1' 'V1' 'V1' 'V1' 'V2' 'V1' 'V1' 'V1' 'V1'\n",
            " 'V1' 'V1' 'V2' 'V2' 'V1' 'V2' 'V1' 'V1' 'V1' 'V1' 'V2' 'V1' 'V1' 'V1'\n",
            " 'V1' 'V1' 'V1' 'V1' 'V1' 'V2' 'V1' 'V2' 'V1' 'V1' 'V1' 'V1' 'V2' 'V1'\n",
            " 'V1' 'V1' 'V1' 'V1' 'V2' 'V1' 'V2' 'V1' 'V1' 'V2' 'V1' 'V1' 'V1' 'V1'\n",
            " 'V2' 'V1' 'V2' 'V2' 'V1' 'V1' 'V1' 'V1' 'V2' 'V2' 'V1' 'V2' 'V2' 'V2'\n",
            " 'V2' 'V1' 'V1' 'V2' 'V1' 'V1' 'V1' 'V2' 'V2' 'V1' 'V2' 'V1' 'V1' 'V1'\n",
            " 'V1' 'V1' 'V1' 'V1' 'V1' 'V2' 'V1' 'V1' 'V1' 'V2' 'V2' 'V2' 'V1' 'V1'\n",
            " 'V2' 'V1' 'V1' 'V1' 'V1' 'V2' 'V2' 'V1' 'V1' 'V1' 'V1' 'V2' 'V2' 'V1'\n",
            " 'V2' 'V1' 'V1' 'V1' 'V2' 'V1' 'V2' 'V1' 'V1' 'V1' 'V1' 'V1' 'V1' 'V1'\n",
            " 'V2' 'V2' 'V2' 'V1' 'V1' 'V2' 'V1' 'V2' 'V1' 'V1' 'V1' 'V1' 'V2' 'V1'\n",
            " 'V1' 'V1' 'V2' 'V2' 'V2' 'V2' 'V2' 'V1' 'V2' 'V1' 'V1' 'V2' 'V2' 'V1'\n",
            " 'V2' 'V1' 'V2' 'V2' 'V1' 'V2' 'V2' 'V2' 'V1' 'V1' 'V2' 'V1' 'V1' 'V1'\n",
            " 'V1' 'V1' 'V1' 'V1' 'V1' 'V1' 'V1' 'V2' 'V1' 'V1' 'V1' 'V1' 'V1' 'V1'\n",
            " 'V2' 'V1' 'V2' 'V1' 'V2' 'V2' 'V2' 'V1' 'V2' 'V2' 'V1' 'V1' 'V1' 'V2'\n",
            " 'V1' 'V1' 'V1' 'V2' 'V2' 'V1' 'V2' 'V1' 'V2' 'V1' 'V2' 'V1' 'V2' 'V2'\n",
            " 'V1' 'V1' 'V1' 'V2' 'V1' 'V2' 'V2' 'V1' 'V1' 'V1' 'V1' 'V1' 'V2' 'V2'\n",
            " 'V1' 'V1' 'V1' 'V1' 'V2' 'V1' 'V1' 'V1' 'V2' 'V1' 'V2' 'V2' 'V1' 'V1'\n",
            " 'V2' 'V2' 'V2' 'V2' 'V2' 'V1' 'V1' 'V1' 'V1' 'V1' 'V1' 'V1' 'V2' 'V1'\n",
            " 'V2' 'V1' 'V2' 'V1' 'V1' 'V1' 'V2' 'V2' 'V1' 'V1' 'V2' 'V2' 'V1' 'V1'\n",
            " 'V1' 'V2' 'V2' 'V1' 'V1' 'V2' 'V1' 'V2' 'V1' 'V2' 'V1' 'V1' 'V1' 'V2'\n",
            " 'V1' 'V1' 'V1' 'V1' 'V2' 'V2' 'V1' 'V2' 'V1' 'V1' 'V1' 'V1' 'V2' 'V1'\n",
            " 'V1' 'V1' 'V1' 'V1' 'V2' 'V1' 'V1' 'V1' 'V2' 'V1' 'V2' 'V1' 'V2' 'V2'\n",
            " 'V2' 'V1' 'V1' 'V2' 'V2' 'V1' 'V1' 'V1' 'V2' 'V1' 'V2' 'V1' 'V1' 'V1'\n",
            " 'V1' 'V2' 'V1' 'V1' 'V1' 'V2' 'V1' 'V1' 'V2' 'V1' 'V2' 'V1' 'V1' 'V1'\n",
            " 'V1' 'V2' 'V1' 'V1' 'V2' 'V1' 'V1' 'V1' 'V1' 'V1' 'V2' 'V1' 'V1' 'V1'\n",
            " 'V1' 'V1' 'V1' 'V2' 'V1' 'V1' 'V1' 'V2' 'V1' 'V1' 'V2' 'V2' 'V1' 'V2'\n",
            " 'V1' 'V2' 'V2' 'V2' 'V1' 'V1' 'V2' 'V2' 'V1' 'V2' 'V2' 'V1' 'V2' 'V1'\n",
            " 'V1' 'V2' 'V1' 'V1' 'V2' 'V1' 'V1' 'V2' 'V2' 'V2' 'V1' 'V1' 'V1' 'V2'\n",
            " 'V1' 'V1' 'V1' 'V2' 'V1' 'V1' 'V2' 'V2' 'V2' 'V1' 'V1' 'V2' 'V2' 'V1'\n",
            " 'V1' 'V1' 'V1' 'V2' 'V1' 'V1' 'V1' 'V1' 'V2' 'V1' 'V1' 'V2' 'V1' 'V1'\n",
            " 'V1' 'V1' 'V1' 'V2' 'V2' 'V2' 'V1' 'V2' 'V1' 'V2' 'V2' 'V1' 'V1' 'V2'\n",
            " 'V1' 'V2' 'V1' 'V1' 'V1' 'V1' 'V1' 'V1' 'V1' 'V2' 'V2' 'V1' 'V1' 'V1'\n",
            " 'V2' 'V1' 'V1' 'V1' 'V1' 'V2' 'V2' 'V2' 'V2' 'V2' 'V1' 'V1' 'V1' 'V2'\n",
            " 'V1' 'V2' 'V1' 'V1' 'V2' 'V2' 'V2' 'V2' 'V1' 'V2' 'V1' 'V2' 'V1' 'V2'\n",
            " 'V1' 'V1' 'V2' 'V1' 'V1' 'V1' 'V1' 'V1' 'V1' 'V1' 'V1' 'V1' 'V1' 'V2'\n",
            " 'V1' 'V1' 'V1' 'V2' 'V2' 'V2' 'V2' 'V2' 'V1' 'V1' 'V2' 'V2' 'V2' 'V2'\n",
            " 'V2' 'V2' 'V2' 'V2' 'V2' 'V2' 'V1' 'V2' 'V2' 'V1' 'V2' 'V2' 'V2' 'V1'\n",
            " 'V2' 'V2' 'V1' 'V2' 'V1' 'V1' 'V1' 'V2' 'V2' 'V1' 'V1' 'V1' 'V2' 'V2'\n",
            " 'V1' 'V1' 'V2' 'V1' 'V2' 'V1' 'V1' 'V2' 'V1' 'V1' 'V1' 'V1' 'V1' 'V2'\n",
            " 'V2' 'V1' 'V1' 'V1' 'V1' 'V2' 'V1' 'V2' 'V1' 'V2' 'V2' 'V1']\n"
          ]
        }
      ],
      "source": [
        "y_pred=np.array(clf.predict(X_test))\n",
        "print('Predicted Values = ',end =' ')\n",
        "print(le.inverse_transform(y_pred))\n",
        "print('\\nActual Values = ',end =' ')\n",
        "print(le.inverse_transform(y_test))"
      ]
    },
    {
      "cell_type": "code",
      "execution_count": null,
      "metadata": {
        "colab": {
          "base_uri": "https://localhost:8080/"
        },
        "id": "lwz-kJb1Mx-8",
        "outputId": "9799498d-9894-4b0d-ff04-e5d8a20ee8ff"
      },
      "outputs": [
        {
          "name": "stdout",
          "output_type": "stream",
          "text": [
            "The accuracy score with the model using scikit/sklearn using Entropy=  98.09069212410502 %\n",
            "The precision score with the model using scikit/sklearn using Entropy=  98.09069212410502 %\n"
          ]
        }
      ],
      "source": [
        "from sklearn.metrics import accuracy_score,confusion_matrix,precision_score\n",
        "print(\"The accuracy score with the model using scikit/sklearn using Entropy= \",accuracy_score(y_test, y_pred)*100,\"%\")\n",
        "print(\"The precision score with the model using scikit/sklearn using Entropy= \",precision_score(y_test, y_pred,average='micro')*100,\"%\")"
      ]
    },
    {
      "cell_type": "markdown",
      "metadata": {
        "id": "LpWKfGfdSEDb"
      },
      "source": [
        "Graph of the DecisionTree model using Entropy and Depth  = 3"
      ]
    },
    {
      "cell_type": "code",
      "execution_count": null,
      "metadata": {
        "colab": {
          "base_uri": "https://localhost:8080/",
          "height": 598
        },
        "id": "N7bq5CpyNstU",
        "outputId": "558c019f-fcf7-430e-ee84-070aaf5e5c67"
      },
      "outputs": [
        {
          "data": {
            "image/svg+xml": [
              "<?xml version=\"1.0\" encoding=\"UTF-8\" standalone=\"no\"?>\n",
              "<!DOCTYPE svg PUBLIC \"-//W3C//DTD SVG 1.1//EN\"\n",
              " \"http://www.w3.org/Graphics/SVG/1.1/DTD/svg11.dtd\">\n",
              "<!-- Generated by graphviz version 2.43.0 (0)\n",
              " -->\n",
              "<!-- Title: Tree Pages: 1 -->\n",
              "<svg width=\"1020pt\" height=\"433pt\"\n",
              " viewBox=\"0.00 0.00 1019.50 433.00\" xmlns=\"http://www.w3.org/2000/svg\" xmlns:xlink=\"http://www.w3.org/1999/xlink\">\n",
              "<g id=\"graph0\" class=\"graph\" transform=\"scale(1 1) rotate(0) translate(4 429)\">\n",
              "<title>Tree</title>\n",
              "<polygon fill=\"white\" stroke=\"transparent\" points=\"-4,4 -4,-429 1015.5,-429 1015.5,4 -4,4\"/>\n",
              "<!-- 0 -->\n",
              "<g id=\"node1\" class=\"node\">\n",
              "<title>0</title>\n",
              "<polygon fill=\"#f6d3ba\" stroke=\"black\" points=\"553,-425 413,-425 413,-342 553,-342 553,-425\"/>\n",
              "<text text-anchor=\"middle\" x=\"483\" y=\"-409.8\" font-family=\"Helvetica,sans-Serif\" font-size=\"14.00\">Perimeter &lt;= 0.004</text>\n",
              "<text text-anchor=\"middle\" x=\"483\" y=\"-394.8\" font-family=\"Helvetica,sans-Serif\" font-size=\"14.00\">entropy = 0.968</text>\n",
              "<text text-anchor=\"middle\" x=\"483\" y=\"-379.8\" font-family=\"Helvetica,sans-Serif\" font-size=\"14.00\">samples = 3349</text>\n",
              "<text text-anchor=\"middle\" x=\"483\" y=\"-364.8\" font-family=\"Helvetica,sans-Serif\" font-size=\"14.00\">value = [2027, 1322]</text>\n",
              "<text text-anchor=\"middle\" x=\"483\" y=\"-349.8\" font-family=\"Helvetica,sans-Serif\" font-size=\"14.00\">class = V1</text>\n",
              "</g>\n",
              "<!-- 1 -->\n",
              "<g id=\"node2\" class=\"node\">\n",
              "<title>1</title>\n",
              "<polygon fill=\"#e5823b\" stroke=\"black\" points=\"475,-306 337,-306 337,-223 475,-223 475,-306\"/>\n",
              "<text text-anchor=\"middle\" x=\"406\" y=\"-290.8\" font-family=\"Helvetica,sans-Serif\" font-size=\"14.00\">Perimeter &lt;= &#45;0.319</text>\n",
              "<text text-anchor=\"middle\" x=\"406\" y=\"-275.8\" font-family=\"Helvetica,sans-Serif\" font-size=\"14.00\">entropy = 0.083</text>\n",
              "<text text-anchor=\"middle\" x=\"406\" y=\"-260.8\" font-family=\"Helvetica,sans-Serif\" font-size=\"14.00\">samples = 2018</text>\n",
              "<text text-anchor=\"middle\" x=\"406\" y=\"-245.8\" font-family=\"Helvetica,sans-Serif\" font-size=\"14.00\">value = [1997, 21]</text>\n",
              "<text text-anchor=\"middle\" x=\"406\" y=\"-230.8\" font-family=\"Helvetica,sans-Serif\" font-size=\"14.00\">class = V1</text>\n",
              "</g>\n",
              "<!-- 0&#45;&gt;1 -->\n",
              "<g id=\"edge1\" class=\"edge\">\n",
              "<title>0&#45;&gt;1</title>\n",
              "<path fill=\"none\" stroke=\"black\" d=\"M456.29,-341.91C450.49,-333.1 444.3,-323.7 438.32,-314.61\"/>\n",
              "<polygon fill=\"black\" stroke=\"black\" points=\"441.09,-312.45 432.67,-306.02 435.24,-316.3 441.09,-312.45\"/>\n",
              "<text text-anchor=\"middle\" x=\"427.62\" y=\"-326.81\" font-family=\"Helvetica,sans-Serif\" font-size=\"14.00\">True</text>\n",
              "</g>\n",
              "<!-- 8 -->\n",
              "<g id=\"node9\" class=\"node\">\n",
              "<title>8</title>\n",
              "<polygon fill=\"#3e9fe6\" stroke=\"black\" points=\"673,-306 539,-306 539,-223 673,-223 673,-306\"/>\n",
              "<text text-anchor=\"middle\" x=\"606\" y=\"-290.8\" font-family=\"Helvetica,sans-Serif\" font-size=\"14.00\">Perimeter &lt;= 0.338</text>\n",
              "<text text-anchor=\"middle\" x=\"606\" y=\"-275.8\" font-family=\"Helvetica,sans-Serif\" font-size=\"14.00\">entropy = 0.155</text>\n",
              "<text text-anchor=\"middle\" x=\"606\" y=\"-260.8\" font-family=\"Helvetica,sans-Serif\" font-size=\"14.00\">samples = 1331</text>\n",
              "<text text-anchor=\"middle\" x=\"606\" y=\"-245.8\" font-family=\"Helvetica,sans-Serif\" font-size=\"14.00\">value = [30, 1301]</text>\n",
              "<text text-anchor=\"middle\" x=\"606\" y=\"-230.8\" font-family=\"Helvetica,sans-Serif\" font-size=\"14.00\">class = V2</text>\n",
              "</g>\n",
              "<!-- 0&#45;&gt;8 -->\n",
              "<g id=\"edge8\" class=\"edge\">\n",
              "<title>0&#45;&gt;8</title>\n",
              "<path fill=\"none\" stroke=\"black\" d=\"M525.67,-341.91C535.5,-332.56 546.04,-322.54 556.14,-312.93\"/>\n",
              "<polygon fill=\"black\" stroke=\"black\" points=\"558.57,-315.45 563.4,-306.02 553.74,-310.38 558.57,-315.45\"/>\n",
              "<text text-anchor=\"middle\" x=\"562.78\" y=\"-327.31\" font-family=\"Helvetica,sans-Serif\" font-size=\"14.00\">False</text>\n",
              "</g>\n",
              "<!-- 2 -->\n",
              "<g id=\"node3\" class=\"node\">\n",
              "<title>2</title>\n",
              "<polygon fill=\"#e58139\" stroke=\"black\" points=\"239.5,-187 122.5,-187 122.5,-104 239.5,-104 239.5,-187\"/>\n",
              "<text text-anchor=\"middle\" x=\"181\" y=\"-171.8\" font-family=\"Helvetica,sans-Serif\" font-size=\"14.00\">Extent &lt;= &#45;1.729</text>\n",
              "<text text-anchor=\"middle\" x=\"181\" y=\"-156.8\" font-family=\"Helvetica,sans-Serif\" font-size=\"14.00\">entropy = 0.007</text>\n",
              "<text text-anchor=\"middle\" x=\"181\" y=\"-141.8\" font-family=\"Helvetica,sans-Serif\" font-size=\"14.00\">samples = 1865</text>\n",
              "<text text-anchor=\"middle\" x=\"181\" y=\"-126.8\" font-family=\"Helvetica,sans-Serif\" font-size=\"14.00\">value = [1864, 1]</text>\n",
              "<text text-anchor=\"middle\" x=\"181\" y=\"-111.8\" font-family=\"Helvetica,sans-Serif\" font-size=\"14.00\">class = V1</text>\n",
              "</g>\n",
              "<!-- 1&#45;&gt;2 -->\n",
              "<g id=\"edge2\" class=\"edge\">\n",
              "<title>1&#45;&gt;2</title>\n",
              "<path fill=\"none\" stroke=\"black\" d=\"M336.96,-227.6C308.87,-212.99 276.51,-196.16 248.57,-181.63\"/>\n",
              "<polygon fill=\"black\" stroke=\"black\" points=\"250.15,-178.51 239.66,-177 246.92,-184.72 250.15,-178.51\"/>\n",
              "</g>\n",
              "<!-- 5 -->\n",
              "<g id=\"node6\" class=\"node\">\n",
              "<title>5</title>\n",
              "<polygon fill=\"#e99457\" stroke=\"black\" points=\"474.5,-187 337.5,-187 337.5,-104 474.5,-104 474.5,-187\"/>\n",
              "<text text-anchor=\"middle\" x=\"406\" y=\"-171.8\" font-family=\"Helvetica,sans-Serif\" font-size=\"14.00\">roundness &lt;= 0.057</text>\n",
              "<text text-anchor=\"middle\" x=\"406\" y=\"-156.8\" font-family=\"Helvetica,sans-Serif\" font-size=\"14.00\">entropy = 0.559</text>\n",
              "<text text-anchor=\"middle\" x=\"406\" y=\"-141.8\" font-family=\"Helvetica,sans-Serif\" font-size=\"14.00\">samples = 153</text>\n",
              "<text text-anchor=\"middle\" x=\"406\" y=\"-126.8\" font-family=\"Helvetica,sans-Serif\" font-size=\"14.00\">value = [133, 20]</text>\n",
              "<text text-anchor=\"middle\" x=\"406\" y=\"-111.8\" font-family=\"Helvetica,sans-Serif\" font-size=\"14.00\">class = V1</text>\n",
              "</g>\n",
              "<!-- 1&#45;&gt;5 -->\n",
              "<g id=\"edge5\" class=\"edge\">\n",
              "<title>1&#45;&gt;5</title>\n",
              "<path fill=\"none\" stroke=\"black\" d=\"M406,-222.91C406,-214.65 406,-205.86 406,-197.3\"/>\n",
              "<polygon fill=\"black\" stroke=\"black\" points=\"409.5,-197.02 406,-187.02 402.5,-197.02 409.5,-197.02\"/>\n",
              "</g>\n",
              "<!-- 3 -->\n",
              "<g id=\"node4\" class=\"node\">\n",
              "<title>3</title>\n",
              "<polygon fill=\"#ea9a61\" stroke=\"black\" points=\"104,-68 0,-68 0,0 104,0 104,-68\"/>\n",
              "<text text-anchor=\"middle\" x=\"52\" y=\"-52.8\" font-family=\"Helvetica,sans-Serif\" font-size=\"14.00\">entropy = 0.65</text>\n",
              "<text text-anchor=\"middle\" x=\"52\" y=\"-37.8\" font-family=\"Helvetica,sans-Serif\" font-size=\"14.00\">samples = 6</text>\n",
              "<text text-anchor=\"middle\" x=\"52\" y=\"-22.8\" font-family=\"Helvetica,sans-Serif\" font-size=\"14.00\">value = [5, 1]</text>\n",
              "<text text-anchor=\"middle\" x=\"52\" y=\"-7.8\" font-family=\"Helvetica,sans-Serif\" font-size=\"14.00\">class = V1</text>\n",
              "</g>\n",
              "<!-- 2&#45;&gt;3 -->\n",
              "<g id=\"edge3\" class=\"edge\">\n",
              "<title>2&#45;&gt;3</title>\n",
              "<path fill=\"none\" stroke=\"black\" d=\"M132.97,-103.73C121.9,-94.33 110.14,-84.35 99.11,-74.99\"/>\n",
              "<polygon fill=\"black\" stroke=\"black\" points=\"101.12,-72.1 91.23,-68.3 96.59,-77.44 101.12,-72.1\"/>\n",
              "</g>\n",
              "<!-- 4 -->\n",
              "<g id=\"node5\" class=\"node\">\n",
              "<title>4</title>\n",
              "<polygon fill=\"#e58139\" stroke=\"black\" points=\"239.5,-68 122.5,-68 122.5,0 239.5,0 239.5,-68\"/>\n",
              "<text text-anchor=\"middle\" x=\"181\" y=\"-52.8\" font-family=\"Helvetica,sans-Serif\" font-size=\"14.00\">entropy = 0.0</text>\n",
              "<text text-anchor=\"middle\" x=\"181\" y=\"-37.8\" font-family=\"Helvetica,sans-Serif\" font-size=\"14.00\">samples = 1859</text>\n",
              "<text text-anchor=\"middle\" x=\"181\" y=\"-22.8\" font-family=\"Helvetica,sans-Serif\" font-size=\"14.00\">value = [1859, 0]</text>\n",
              "<text text-anchor=\"middle\" x=\"181\" y=\"-7.8\" font-family=\"Helvetica,sans-Serif\" font-size=\"14.00\">class = V1</text>\n",
              "</g>\n",
              "<!-- 2&#45;&gt;4 -->\n",
              "<g id=\"edge4\" class=\"edge\">\n",
              "<title>2&#45;&gt;4</title>\n",
              "<path fill=\"none\" stroke=\"black\" d=\"M181,-103.73C181,-95.52 181,-86.86 181,-78.56\"/>\n",
              "<polygon fill=\"black\" stroke=\"black\" points=\"184.5,-78.3 181,-68.3 177.5,-78.3 184.5,-78.3\"/>\n",
              "</g>\n",
              "<!-- 6 -->\n",
              "<g id=\"node7\" class=\"node\">\n",
              "<title>6</title>\n",
              "<polygon fill=\"#f5ceb1\" stroke=\"black\" points=\"368.5,-68 257.5,-68 257.5,0 368.5,0 368.5,-68\"/>\n",
              "<text text-anchor=\"middle\" x=\"313\" y=\"-52.8\" font-family=\"Helvetica,sans-Serif\" font-size=\"14.00\">entropy = 0.956</text>\n",
              "<text text-anchor=\"middle\" x=\"313\" y=\"-37.8\" font-family=\"Helvetica,sans-Serif\" font-size=\"14.00\">samples = 45</text>\n",
              "<text text-anchor=\"middle\" x=\"313\" y=\"-22.8\" font-family=\"Helvetica,sans-Serif\" font-size=\"14.00\">value = [28, 17]</text>\n",
              "<text text-anchor=\"middle\" x=\"313\" y=\"-7.8\" font-family=\"Helvetica,sans-Serif\" font-size=\"14.00\">class = V1</text>\n",
              "</g>\n",
              "<!-- 5&#45;&gt;6 -->\n",
              "<g id=\"edge6\" class=\"edge\">\n",
              "<title>5&#45;&gt;6</title>\n",
              "<path fill=\"none\" stroke=\"black\" d=\"M371.37,-103.73C363.7,-94.7 355.57,-85.12 347.89,-76.08\"/>\n",
              "<polygon fill=\"black\" stroke=\"black\" points=\"350.42,-73.66 341.28,-68.3 345.09,-78.19 350.42,-73.66\"/>\n",
              "</g>\n",
              "<!-- 7 -->\n",
              "<g id=\"node8\" class=\"node\">\n",
              "<title>7</title>\n",
              "<polygon fill=\"#e6853f\" stroke=\"black\" points=\"497.5,-68 386.5,-68 386.5,0 497.5,0 497.5,-68\"/>\n",
              "<text text-anchor=\"middle\" x=\"442\" y=\"-52.8\" font-family=\"Helvetica,sans-Serif\" font-size=\"14.00\">entropy = 0.183</text>\n",
              "<text text-anchor=\"middle\" x=\"442\" y=\"-37.8\" font-family=\"Helvetica,sans-Serif\" font-size=\"14.00\">samples = 108</text>\n",
              "<text text-anchor=\"middle\" x=\"442\" y=\"-22.8\" font-family=\"Helvetica,sans-Serif\" font-size=\"14.00\">value = [105, 3]</text>\n",
              "<text text-anchor=\"middle\" x=\"442\" y=\"-7.8\" font-family=\"Helvetica,sans-Serif\" font-size=\"14.00\">class = V1</text>\n",
              "</g>\n",
              "<!-- 5&#45;&gt;7 -->\n",
              "<g id=\"edge7\" class=\"edge\">\n",
              "<title>5&#45;&gt;7</title>\n",
              "<path fill=\"none\" stroke=\"black\" d=\"M419.41,-103.73C422.16,-95.34 425.08,-86.47 427.86,-78.01\"/>\n",
              "<polygon fill=\"black\" stroke=\"black\" points=\"431.25,-78.89 431.05,-68.3 424.6,-76.71 431.25,-78.89\"/>\n",
              "</g>\n",
              "<!-- 9 -->\n",
              "<g id=\"node10\" class=\"node\">\n",
              "<title>9</title>\n",
              "<polygon fill=\"#95cbf1\" stroke=\"black\" points=\"674.5,-187 537.5,-187 537.5,-104 674.5,-104 674.5,-187\"/>\n",
              "<text text-anchor=\"middle\" x=\"606\" y=\"-171.8\" font-family=\"Helvetica,sans-Serif\" font-size=\"14.00\">roundness &lt;= 0.104</text>\n",
              "<text text-anchor=\"middle\" x=\"606\" y=\"-156.8\" font-family=\"Helvetica,sans-Serif\" font-size=\"14.00\">entropy = 0.902</text>\n",
              "<text text-anchor=\"middle\" x=\"606\" y=\"-141.8\" font-family=\"Helvetica,sans-Serif\" font-size=\"14.00\">samples = 88</text>\n",
              "<text text-anchor=\"middle\" x=\"606\" y=\"-126.8\" font-family=\"Helvetica,sans-Serif\" font-size=\"14.00\">value = [28, 60]</text>\n",
              "<text text-anchor=\"middle\" x=\"606\" y=\"-111.8\" font-family=\"Helvetica,sans-Serif\" font-size=\"14.00\">class = V2</text>\n",
              "</g>\n",
              "<!-- 8&#45;&gt;9 -->\n",
              "<g id=\"edge9\" class=\"edge\">\n",
              "<title>8&#45;&gt;9</title>\n",
              "<path fill=\"none\" stroke=\"black\" d=\"M606,-222.91C606,-214.65 606,-205.86 606,-197.3\"/>\n",
              "<polygon fill=\"black\" stroke=\"black\" points=\"609.5,-197.02 606,-187.02 602.5,-197.02 609.5,-197.02\"/>\n",
              "</g>\n",
              "<!-- 12 -->\n",
              "<g id=\"node13\" class=\"node\">\n",
              "<title>12</title>\n",
              "<polygon fill=\"#399de5\" stroke=\"black\" points=\"903,-187 745,-187 745,-104 903,-104 903,-187\"/>\n",
              "<text text-anchor=\"middle\" x=\"824\" y=\"-171.8\" font-family=\"Helvetica,sans-Serif\" font-size=\"14.00\">Compactness &lt;= 0.305</text>\n",
              "<text text-anchor=\"middle\" x=\"824\" y=\"-156.8\" font-family=\"Helvetica,sans-Serif\" font-size=\"14.00\">entropy = 0.017</text>\n",
              "<text text-anchor=\"middle\" x=\"824\" y=\"-141.8\" font-family=\"Helvetica,sans-Serif\" font-size=\"14.00\">samples = 1243</text>\n",
              "<text text-anchor=\"middle\" x=\"824\" y=\"-126.8\" font-family=\"Helvetica,sans-Serif\" font-size=\"14.00\">value = [2, 1241]</text>\n",
              "<text text-anchor=\"middle\" x=\"824\" y=\"-111.8\" font-family=\"Helvetica,sans-Serif\" font-size=\"14.00\">class = V2</text>\n",
              "</g>\n",
              "<!-- 8&#45;&gt;12 -->\n",
              "<g id=\"edge12\" class=\"edge\">\n",
              "<title>8&#45;&gt;12</title>\n",
              "<path fill=\"none\" stroke=\"black\" d=\"M673.19,-227.44C694.08,-216.23 717.38,-203.72 739.31,-191.95\"/>\n",
              "<polygon fill=\"black\" stroke=\"black\" points=\"741.13,-194.95 748.28,-187.14 737.82,-188.78 741.13,-194.95\"/>\n",
              "</g>\n",
              "<!-- 10 -->\n",
              "<g id=\"node11\" class=\"node\">\n",
              "<title>10</title>\n",
              "<polygon fill=\"#6ab6ec\" stroke=\"black\" points=\"626.5,-68 515.5,-68 515.5,0 626.5,0 626.5,-68\"/>\n",
              "<text text-anchor=\"middle\" x=\"571\" y=\"-52.8\" font-family=\"Helvetica,sans-Serif\" font-size=\"14.00\">entropy = 0.722</text>\n",
              "<text text-anchor=\"middle\" x=\"571\" y=\"-37.8\" font-family=\"Helvetica,sans-Serif\" font-size=\"14.00\">samples = 75</text>\n",
              "<text text-anchor=\"middle\" x=\"571\" y=\"-22.8\" font-family=\"Helvetica,sans-Serif\" font-size=\"14.00\">value = [15, 60]</text>\n",
              "<text text-anchor=\"middle\" x=\"571\" y=\"-7.8\" font-family=\"Helvetica,sans-Serif\" font-size=\"14.00\">class = V2</text>\n",
              "</g>\n",
              "<!-- 9&#45;&gt;10 -->\n",
              "<g id=\"edge10\" class=\"edge\">\n",
              "<title>9&#45;&gt;10</title>\n",
              "<path fill=\"none\" stroke=\"black\" d=\"M592.97,-103.73C590.29,-95.34 587.45,-86.47 584.75,-78.01\"/>\n",
              "<polygon fill=\"black\" stroke=\"black\" points=\"588.02,-76.76 581.64,-68.3 581.35,-78.89 588.02,-76.76\"/>\n",
              "</g>\n",
              "<!-- 11 -->\n",
              "<g id=\"node12\" class=\"node\">\n",
              "<title>11</title>\n",
              "<polygon fill=\"#e58139\" stroke=\"black\" points=\"747,-68 645,-68 645,0 747,0 747,-68\"/>\n",
              "<text text-anchor=\"middle\" x=\"696\" y=\"-52.8\" font-family=\"Helvetica,sans-Serif\" font-size=\"14.00\">entropy = 0.0</text>\n",
              "<text text-anchor=\"middle\" x=\"696\" y=\"-37.8\" font-family=\"Helvetica,sans-Serif\" font-size=\"14.00\">samples = 13</text>\n",
              "<text text-anchor=\"middle\" x=\"696\" y=\"-22.8\" font-family=\"Helvetica,sans-Serif\" font-size=\"14.00\">value = [13, 0]</text>\n",
              "<text text-anchor=\"middle\" x=\"696\" y=\"-7.8\" font-family=\"Helvetica,sans-Serif\" font-size=\"14.00\">class = V1</text>\n",
              "</g>\n",
              "<!-- 9&#45;&gt;11 -->\n",
              "<g id=\"edge11\" class=\"edge\">\n",
              "<title>9&#45;&gt;11</title>\n",
              "<path fill=\"none\" stroke=\"black\" d=\"M639.51,-103.73C646.93,-94.7 654.8,-85.12 662.23,-76.08\"/>\n",
              "<polygon fill=\"black\" stroke=\"black\" points=\"664.98,-78.25 668.63,-68.3 659.58,-73.8 664.98,-78.25\"/>\n",
              "</g>\n",
              "<!-- 13 -->\n",
              "<g id=\"node14\" class=\"node\">\n",
              "<title>13</title>\n",
              "<polygon fill=\"#399de5\" stroke=\"black\" points=\"882.5,-68 765.5,-68 765.5,0 882.5,0 882.5,-68\"/>\n",
              "<text text-anchor=\"middle\" x=\"824\" y=\"-52.8\" font-family=\"Helvetica,sans-Serif\" font-size=\"14.00\">entropy = 0.0</text>\n",
              "<text text-anchor=\"middle\" x=\"824\" y=\"-37.8\" font-family=\"Helvetica,sans-Serif\" font-size=\"14.00\">samples = 1217</text>\n",
              "<text text-anchor=\"middle\" x=\"824\" y=\"-22.8\" font-family=\"Helvetica,sans-Serif\" font-size=\"14.00\">value = [0, 1217]</text>\n",
              "<text text-anchor=\"middle\" x=\"824\" y=\"-7.8\" font-family=\"Helvetica,sans-Serif\" font-size=\"14.00\">class = V2</text>\n",
              "</g>\n",
              "<!-- 12&#45;&gt;13 -->\n",
              "<g id=\"edge13\" class=\"edge\">\n",
              "<title>12&#45;&gt;13</title>\n",
              "<path fill=\"none\" stroke=\"black\" d=\"M824,-103.73C824,-95.52 824,-86.86 824,-78.56\"/>\n",
              "<polygon fill=\"black\" stroke=\"black\" points=\"827.5,-78.3 824,-68.3 820.5,-78.3 827.5,-78.3\"/>\n",
              "</g>\n",
              "<!-- 14 -->\n",
              "<g id=\"node15\" class=\"node\">\n",
              "<title>14</title>\n",
              "<polygon fill=\"#49a5e7\" stroke=\"black\" points=\"1011.5,-68 900.5,-68 900.5,0 1011.5,0 1011.5,-68\"/>\n",
              "<text text-anchor=\"middle\" x=\"956\" y=\"-52.8\" font-family=\"Helvetica,sans-Serif\" font-size=\"14.00\">entropy = 0.391</text>\n",
              "<text text-anchor=\"middle\" x=\"956\" y=\"-37.8\" font-family=\"Helvetica,sans-Serif\" font-size=\"14.00\">samples = 26</text>\n",
              "<text text-anchor=\"middle\" x=\"956\" y=\"-22.8\" font-family=\"Helvetica,sans-Serif\" font-size=\"14.00\">value = [2, 24]</text>\n",
              "<text text-anchor=\"middle\" x=\"956\" y=\"-7.8\" font-family=\"Helvetica,sans-Serif\" font-size=\"14.00\">class = V2</text>\n",
              "</g>\n",
              "<!-- 12&#45;&gt;14 -->\n",
              "<g id=\"edge14\" class=\"edge\">\n",
              "<title>12&#45;&gt;14</title>\n",
              "<path fill=\"none\" stroke=\"black\" d=\"M873.15,-103.73C884.59,-94.24 896.74,-84.16 908.12,-74.72\"/>\n",
              "<polygon fill=\"black\" stroke=\"black\" points=\"910.4,-77.38 915.86,-68.3 905.93,-71.99 910.4,-77.38\"/>\n",
              "</g>\n",
              "</g>\n",
              "</svg>\n"
            ],
            "text/plain": [
              "<graphviz.sources.Source at 0x7cbc19af6230>"
            ]
          },
          "execution_count": 27,
          "metadata": {},
          "output_type": "execute_result"
        }
      ],
      "source": [
        "clf.fit(X, y)\n",
        "from sklearn import tree\n",
        "import graphviz\n",
        "\n",
        "features = ['Area','Perimeter','ConvexArea','EquivDiameter','Extent','Solidity','roundness','Compactness']\n",
        "cn = ['V1','V2']\n",
        "dot_data = tree.export_graphviz(clf, feature_names=features,class_names=cn, filled=True)\n",
        "graph = graphviz.Source(dot_data)\n",
        "graph.format = 'svg'\n",
        "graph.render('decision_tree')\n",
        "\n",
        "graph"
      ]
    }
  ],
  "metadata": {
    "colab": {
      "provenance": []
    },
    "kernelspec": {
      "display_name": "Python 3",
      "name": "python3"
    },
    "language_info": {
      "name": "python"
    }
  },
  "nbformat": 4,
  "nbformat_minor": 0
}
